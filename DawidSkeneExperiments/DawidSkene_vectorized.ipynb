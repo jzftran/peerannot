{
 "cells": [
  {
   "cell_type": "code",
   "execution_count": 1,
   "metadata": {},
   "outputs": [],
   "source": [
    "\n",
    "import numpy as np\n",
    "\n",
    "# load data\n",
    "from toy_data import N_CLASSES, N_WORKERS, votes\n",
    "\n",
    "from peerannot.models import DawidSkene\n",
    "\n"
   ]
  },
  {
   "cell_type": "code",
   "execution_count": 2,
   "metadata": {},
   "outputs": [
    {
     "name": "stderr",
     "output_type": "stream",
     "text": [
      "\u001b[32m2025-04-10 23:49:24.912\u001b[0m | \u001b[34m\u001b[1mDEBUG   \u001b[0m | \u001b[36mpeerannot.models.aggregation.DS\u001b[0m:\u001b[36m_init_crowd_matrix\u001b[0m:\u001b[36m107\u001b[0m - \u001b[34m\u001b[1mSize of dense crowd matrix: 864\u001b[0m\n"
     ]
    },
    {
     "data": {
      "application/vnd.jupyter.widget-view+json": {
       "model_id": "5f8fd1c66a494f189e0f6ace527083a4",
       "version_major": 2,
       "version_minor": 0
      },
      "text/plain": [
       "DawidSkene:   0%|          | 0/70 [00:00<?, ?it/s]"
      ]
     },
     "metadata": {},
     "output_type": "display_data"
    },
    {
     "data": {
      "text/plain": [
       "array([2, 2, 8, 1, 4, 0, 5, 3, 7, 1, 0, 3, 8, 3, 4, 7, 4, 7, 3, 7])"
      ]
     },
     "execution_count": 2,
     "metadata": {},
     "output_type": "execute_result"
    }
   ],
   "source": [
    "ds = DawidSkene(votes, N_WORKERS, N_CLASSES)\n",
    "ds.run(maxiter=70)\n",
    "ds.get_answers()"
   ]
  },
  {
   "cell_type": "code",
   "execution_count": 5,
   "metadata": {},
   "outputs": [
    {
     "data": {
      "text/plain": [
       "(20, 9)"
      ]
     },
     "execution_count": 5,
     "metadata": {},
     "output_type": "execute_result"
    }
   ],
   "source": [
    "ds.T.shape"
   ]
  },
  {
   "cell_type": "code",
   "execution_count": 4,
   "metadata": {},
   "outputs": [],
   "source": [
    "a = ds.crowd_matrix"
   ]
  },
  {
   "cell_type": "code",
   "execution_count": 5,
   "metadata": {},
   "outputs": [
    {
     "name": "stderr",
     "output_type": "stream",
     "text": [
      "\u001b[32m2025-04-10 17:51:53.550\u001b[0m | \u001b[34m\u001b[1mDEBUG   \u001b[0m | \u001b[36mpeerannot.models.aggregation.DS\u001b[0m:\u001b[36m_init_crowd_matrix\u001b[0m:\u001b[36m129\u001b[0m - \u001b[34m\u001b[1mSize of dense crowd matrix: 145\u001b[0m\n"
     ]
    }
   ],
   "source": [
    "ds = DawidSkene.from_crowd_matrix(a)"
   ]
  },
  {
   "cell_type": "code",
   "execution_count": 6,
   "metadata": {},
   "outputs": [
    {
     "data": {
      "application/vnd.jupyter.widget-view+json": {
       "model_id": "1cc7f0eda35444b88782871d95fe1fd1",
       "version_major": 2,
       "version_minor": 0
      },
      "text/plain": [
       "DawidSkene:   0%|          | 0/50 [00:00<?, ?it/s]"
      ]
     },
     "metadata": {},
     "output_type": "display_data"
    },
    {
     "data": {
      "text/plain": [
       "([np.float64(0.3633869682954748),\n",
       "  np.float64(0.4865896758715302),\n",
       "  np.float64(0.5645373082298869),\n",
       "  np.float64(0.5894401764017763),\n",
       "  np.float64(0.5972999482341729),\n",
       "  np.float64(0.6011377186417711),\n",
       "  np.float64(0.6030563113012529),\n",
       "  np.float64(0.6041311628565327),\n",
       "  np.float64(0.6050284872743155),\n",
       "  np.float64(0.6061538384372023),\n",
       "  np.float64(0.6076956199088558),\n",
       "  np.float64(0.6099042035713347),\n",
       "  np.float64(0.6131757023590818),\n",
       "  np.float64(0.6180981622692652),\n",
       "  np.float64(0.6252309197106991),\n",
       "  np.float64(0.6337922044398349),\n",
       "  np.float64(0.6398838187014028),\n",
       "  np.float64(0.641430847906076),\n",
       "  np.float64(0.641575748502922),\n",
       "  np.float64(0.6416452221691288),\n",
       "  np.float64(0.6416973262270965),\n",
       "  np.float64(0.6417364310053917),\n",
       "  np.float64(0.6417657748302665),\n",
       "  np.float64(0.6417877913620794),\n",
       "  np.float64(0.6418043086740544),\n",
       "  np.float64(0.6418166994395368),\n",
       "  np.float64(0.6418259940862142),\n",
       "  np.float64(0.6418329659593454),\n",
       "  np.float64(0.6418381953653485),\n",
       "  np.float64(0.6418421177024577),\n",
       "  np.float64(0.6418450596145708),\n",
       "  np.float64(0.6418472661383926),\n",
       "  np.float64(0.6418489210817983),\n",
       "  np.float64(0.6418501623178092),\n",
       "  np.float64(0.6418510932608366)],\n",
       " 35)"
      ]
     },
     "execution_count": 6,
     "metadata": {},
     "output_type": "execute_result"
    }
   ],
   "source": [
    "ds.run()"
   ]
  },
  {
   "cell_type": "code",
   "execution_count": null,
   "metadata": {},
   "outputs": [],
   "source": [
    "import warnings\n",
    "from collections.abc import Generator\n",
    "from os import PathLike\n",
    "from sys import getsizeof\n",
    "from typing import Annotated\n",
    "\n",
    "import numpy as np\n",
    "from annotated_types import Ge\n",
    "from loguru import logger\n",
    "from numpy.typing import NDArray\n",
    "from pydantic import validate_call\n",
    "from tqdm.auto import tqdm\n",
    "\n",
    "from peerannot.models.aggregation.warnings import DidNotConverge\n",
    "from peerannot.models.template import AnswersDict, CrowdModel\n",
    "\n",
    "FilePathInput = PathLike | str | list[str] | Generator[str, None, None] | None\n",
    "\n",
    "\n",
    "class DawidSkene(CrowdModel):\n",
    "    \"\"\"\n",
    "    =============================\n",
    "    Dawid and Skene model (1979)\n",
    "    =============================\n",
    "\n",
    "    Assumptions:\n",
    "    - independent workers\n",
    "\n",
    "    Using:\n",
    "    - EM algorithm\n",
    "\n",
    "    Estimating:\n",
    "    - One confusion matrix for each workers\n",
    "    \"\"\"\n",
    "\n",
    "    @validate_call\n",
    "    def __init__(\n",
    "        self,\n",
    "        answers: AnswersDict,\n",
    "        n_workers: Annotated[int, Ge(1)],\n",
    "        n_classes: Annotated[int, Ge(1)],\n",
    "        *,\n",
    "        path_remove: FilePathInput = None,\n",
    "    ) -> None:\n",
    "        r\"\"\"Dawid and Skene strategy: estimate confusion matrix for each worker.\n",
    "\n",
    "        Assuming that workers are independent, the model assumes that\n",
    "\n",
    "        .. math::\n",
    "\n",
    "            (y_i^{(j)}\\ | y_i^\\\\star = k) \\\\sim \\\\mathcal{M}\\\\left(\\\\pi^{(j)}_{k,\\\\cdot}\\\\right)\n",
    "\n",
    "        and maximizes the log likelihood of the model using an EM algorithm.\n",
    "\n",
    "        .. math::\n",
    "\n",
    "            \\\\underset{\\\\rho,\\\\\\pi,T}{\\mathrm{argmax}}\\\\prod_{i\\\\in [n_{\\\\texttt{task}}]}\\prod_{k \\\\in [K]}\\\\bigg[\\\\rho_k\\prod_{j\\\\in [n_{\\\\texttt{worker}}]}\\prod_{\\\\ell\\in [K]}\\\\big(\\\\pi^{(j)}_{k, \\\\ell}\\\\big)^{\\mathbf{1}_{\\\\{y_i^{(j)}=\\\\ell\\\\}}}\\\\bigg]^{T_{i,k}},\n",
    "\n",
    "        where :math:`\\\\rho` is the class marginals, :math:`\\\\pi` is the confusion matrix and :math:`T` is the indicator variables of belonging to each class.\n",
    "\n",
    "        :param answers: Dictionary of workers answers with format\n",
    "\n",
    "         .. code-block:: javascript\n",
    "\n",
    "            {\n",
    "                task0: {worker0: label, worker1: label},\n",
    "                task1: {worker1: label}\n",
    "            }\n",
    "\n",
    "        :type answers: dict\n",
    "        :param sparse: If the number of workers/tasks/label is large (:math:`>10^{6}` for at least one), # use sparse=True to run per task\n",
    "        :param n_classes: Number of possible classes, defaults to 2\n",
    "        :type n_classes: int, optional\"\"\"\n",
    "\n",
    "        super().__init__(answers)\n",
    "        self.n_workers: int = n_workers\n",
    "        self.n_classes: int = n_classes\n",
    "        self.n_task: int = len(self.answers)\n",
    "\n",
    "        self._exclude_answers()\n",
    "\n",
    "        self._init_crowd_matrix()\n",
    "        logger.debug(f\"Dense Crowd matrix{getsizeof(self.crowd_matrix)}\")\n",
    "\n",
    "\n",
    "    def _init_crowd_matrix(self) -> None:\n",
    "        \"\"\"Transform dictionnary of labels to a tensor of size\n",
    "        (n_task, n_workers, n_classes).\"\"\"\n",
    "\n",
    "        matrix = np.zeros((self.n_task, self.n_workers, self.n_classes))\n",
    "        for task, ans in self.answers.items():\n",
    "            for worker, label in ans.items():\n",
    "                matrix[task, worker, label] += 1\n",
    "\n",
    "        logger.debug(f\"Dense crowd matrix  {getsizeof(matrix)}\")\n",
    "        self.crowd_matrix = matrix\n",
    "\n",
    "    def _init_T(self) -> None:  # noqa: N802\n",
    "        \"\"\"NS initialization\"\"\"\n",
    "        # T shape is n_task, n_classes\n",
    "        T = self.crowd_matrix.sum(axis=1)  # noqa: N806\n",
    "        logger.debug(f\"Size of T before calc: {getsizeof(T)}\")\n",
    "\n",
    "        tdim = T.sum(1, keepdims=True)\n",
    "        self.T = np.where(tdim > 0, T / tdim, 0)\n",
    "        logger.debug(f\"Size of T: {getsizeof(self.T)}\")\n",
    "\n",
    "    def _m_step(\n",
    "        self,\n",
    "    ) -> None:\n",
    "        \"\"\"Maximizing log likelihood (see eq. 2.3 and 2.4 Dawid and Skene 1979)\n",
    "\n",
    "        Returns:\n",
    "            :math:`\\\\rho`: :math:`(\\\\rho_j)_j` probabilities that instance has\n",
    "                true response j if drawn at random (class marginals)\n",
    "            pi: number of times worker k records l when j is correct\n",
    "        \"\"\"\n",
    "        \n",
    "        self.rho = self.T.sum(0) / self.n_task\n",
    "        pi = np.einsum('tq,twc->wqc', self.T, self.crowd_matrix)\n",
    "        denom = pi.sum(axis=2, keepdims=True)\n",
    "        self.pi = pi / np.where(denom <= 0, -1e9, denom)\n",
    "\n",
    "\n",
    "    def _e_step(self) -> None:\n",
    "        \"\"\"Estimate indicator variables (see eq. 2.5 Dawid and Skene 1979)\"\"\"\n",
    "\n",
    "        exp_pi = np.power(self.pi[np.newaxis, :, :, :], self.crowd_matrix[:, :, np.newaxis, :])\n",
    "\n",
    "        # numerator by taking the product over the worker axis\n",
    "        num = np.prod(exp_pi, axis=3).prod(axis=1) * self.rho[np.newaxis, :]\n",
    "        self.denom_e_step = num.sum(axis=1, keepdims=True)\n",
    "        self.T = np.where(self.denom_e_step > 0, num / self.denom_e_step, num)\n",
    "\n",
    "\n",
    "\n",
    "\n",
    "    def _log_likelihood(self) -> float:\n",
    "        \"\"\"Compute log likelihood of the model\"\"\"\n",
    "        return np.log(np.sum(self.denom_e_step))\n",
    "\n",
    "    @validate_call\n",
    "    def run(\n",
    "        self,\n",
    "        epsilon: Annotated[float, Ge(0)] = 1e-6,\n",
    "        maxiter: Annotated[int, Ge(0)] = 50,\n",
    "    ) -> tuple[list[float], int]:\n",
    "        \"\"\"Run the EM optimization\n",
    "\n",
    "        :param epsilon: stopping criterion (:math:`\\\\ell_1` norm between two iterates of log likelihood), defaults to 1e-6\n",
    "        :type epsilon: float, optional\n",
    "        :param maxiter: Maximum number of steps, defaults to 50\n",
    "        :type maxiter: int, optional\n",
    "        :param verbose: Verbosity level, defaults to False\n",
    "        :return: Log likelihood values and number of steps taken\n",
    "        :rtype: (list,int)\n",
    "        \"\"\"\n",
    "\n",
    "        i = 0\n",
    "        eps = np.inf\n",
    "\n",
    "        self._init_T()\n",
    "        ll = []\n",
    "        pbar = tqdm(total=maxiter, desc=\"Dawid and Skene\")\n",
    "        while i < maxiter and eps > epsilon:\n",
    "            self._m_step()\n",
    "            self._e_step()\n",
    "            likeli = self._log_likelihood()\n",
    "            ll.append(likeli)\n",
    "            if i > 0:\n",
    "                eps = np.abs(ll[-1] - ll[-2])\n",
    "            i += 1\n",
    "            pbar.update(1)\n",
    "\n",
    "        pbar.set_description(\"Finished\")\n",
    "        pbar.close()\n",
    "        self.c = i\n",
    "        if eps > epsilon:\n",
    "            warnings.warn(\n",
    "                DidNotConverge(self.__class__.__name__, eps, epsilon),\n",
    "                stacklevel=2,\n",
    "            )\n",
    "\n",
    "        return ll, i\n",
    "\n",
    "    def get_answers(self) -> NDArray:\n",
    "        \"\"\"Get most probable labels\"\"\"\n",
    "\n",
    "        return np.vectorize(self.inv_labels.get)(\n",
    "            np.argmax(self.get_probas(), axis=1),\n",
    "        )\n",
    "\n",
    "    def get_probas(self) -> NDArray:\n",
    "        \"\"\"Get soft labels distribution for each task\"\"\"\n",
    "        return self.T\n"
   ]
  },
  {
   "cell_type": "code",
   "execution_count": 6,
   "metadata": {},
   "outputs": [
    {
     "name": "stderr",
     "output_type": "stream",
     "text": [
      "\u001b[32m2025-04-03 16:16:16.119\u001b[0m | \u001b[34m\u001b[1mDEBUG   \u001b[0m | \u001b[36m__main__\u001b[0m:\u001b[36m_init_crowd_matrix\u001b[0m:\u001b[36m106\u001b[0m - \u001b[34m\u001b[1mDense crowd matrix  5904\u001b[0m\n",
      "\u001b[32m2025-04-03 16:16:16.120\u001b[0m | \u001b[34m\u001b[1mDEBUG   \u001b[0m | \u001b[36m__main__\u001b[0m:\u001b[36m__init__\u001b[0m:\u001b[36m84\u001b[0m - \u001b[34m\u001b[1mDense Crowd matrix5904\u001b[0m\n",
      "\u001b[32m2025-04-03 16:16:16.121\u001b[0m | \u001b[34m\u001b[1mDEBUG   \u001b[0m | \u001b[36m__main__\u001b[0m:\u001b[36m_init_T\u001b[0m:\u001b[36m113\u001b[0m - \u001b[34m\u001b[1mSize of T before calc: 1568\u001b[0m\n",
      "\u001b[32m2025-04-03 16:16:16.121\u001b[0m | \u001b[34m\u001b[1mDEBUG   \u001b[0m | \u001b[36m__main__\u001b[0m:\u001b[36m_init_T\u001b[0m:\u001b[36m117\u001b[0m - \u001b[34m\u001b[1mSize of T: 1568\u001b[0m\n"
     ]
    },
    {
     "data": {
      "application/vnd.jupyter.widget-view+json": {
       "model_id": "7f60e8ce13bc438bb83b6a82ff7e7a97",
       "version_major": 2,
       "version_minor": 0
      },
      "text/plain": [
       "Dawid and Skene:   0%|          | 0/70 [00:00<?, ?it/s]"
      ]
     },
     "metadata": {},
     "output_type": "display_data"
    },
    {
     "data": {
      "text/plain": [
       "array([2, 2, 8, 1, 4, 0, 5, 3, 7, 1, 0, 3, 8, 3, 4, 7, 4, 7, 3, 7])"
      ]
     },
     "execution_count": 6,
     "metadata": {},
     "output_type": "execute_result"
    }
   ],
   "source": [
    "ds = DawidSkene(votes, N_WORKERS, N_CLASSES)\n",
    "ds.run(maxiter=70)\n",
    "ds.get_answers()"
   ]
  }
 ],
 "metadata": {
  "kernelspec": {
   "display_name": ".venv",
   "language": "python",
   "name": "python3"
  },
  "language_info": {
   "codemirror_mode": {
    "name": "ipython",
    "version": 3
   },
   "file_extension": ".py",
   "mimetype": "text/x-python",
   "name": "python",
   "nbconvert_exporter": "python",
   "pygments_lexer": "ipython3",
   "version": "3.12.3"
  }
 },
 "nbformat": 4,
 "nbformat_minor": 2
}
