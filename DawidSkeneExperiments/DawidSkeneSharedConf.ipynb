{
 "cells": [
  {
   "cell_type": "markdown",
   "metadata": {},
   "source": [
    "# Dawid Skene (Pooled: Multinomial Model)\n",
    "Uses a single confusion matrix instead of one per worker. No need to track individual worker behavior.\n",
    "\n",
    "However, treats all workers equally reliable/unreliable.\n",
    "\n",
    "Instead of indexing by worker (pi[k, j, l]), we can use the shared confusion matrix pi[j, l].\n",
    "The probability of a task belonging to class j is computed using all worker responses at once. (So basically we have a single worker, right?)\n",
    "\n",
    "\n",
    "\n",
    "## What might be worth investigating:\n",
    "\n",
    "- `_m_step`:\n",
    "    ```python\n",
    "    np.where(denom <= 0, -1e9, denom)\n",
    "    ```\n",
    "    `-1e9` could be changed to epsilon (`np.finfo(float).eps`) or `np.maximum(denom, eps)` or something similar?\n",
    "\n",
    "- `_e_step`:\n",
    "    Maybe the e-step should rely more on log `log_T = np.log(self.rho) + (self.crowd_matrix * np.log(self.pi)).sum(axis=(1, 2))` or something similar to this.\n",
    "    Can double loop (over `i` and `j`) be solved by `np.einsum`?\n"
   ]
  },
  {
   "cell_type": "markdown",
   "metadata": {},
   "source": [
    "```python\n",
    "# Summing over l in y -> shape (N, J)\n",
    "sum_y_nj = np.sum(self.crowd_matrix, axis=1)  # Summing over L\n",
    "\n",
    "# Summing over n with weighting by t -> shape (K, J)\n",
    "numerator = np.dot(self.T.T, sum_y_nj)  # (K, N) @ (N, J) -> (K, J)\n",
    "\n",
    "# Summing over i (K) in the denominator\n",
    "denom = np.sum(numerator, axis=1, keepdims=True)  # (J, 1)\n",
    "\n",
    "```\n",
    "should be equivalent to:\n",
    "```python\n",
    "\n",
    "aggregated_votes = np.einsum(\n",
    "    \"tq, tij -> qj\", self.T, self.crowd_matrix\n",
    ")  # shape (n_classes, n_classes)\n",
    "\n",
    "denom = aggregated_votes.sum(\n",
    "    axis=1, keepdims=True\n",
    ")\n",
    "```"
   ]
  },
  {
   "cell_type": "code",
   "execution_count": null,
   "metadata": {},
   "outputs": [
    {
     "name": "stderr",
     "output_type": "stream",
     "text": [
      "/home/jozef/Desktop/repos/peerannot/.venv/lib/python3.12/site-packages/tqdm/auto.py:21: TqdmWarning: IProgress not found. Please update jupyter and ipywidgets. See https://ipywidgets.readthedocs.io/en/stable/user_install.html\n",
      "  from .autonotebook import tqdm as notebook_tqdm\n"
     ]
    }
   ],
   "source": [
    "import warnings\n",
    "from os import PathLike\n",
    "from sys import getsizeof\n",
    "from typing import Annotated, Generator\n",
    "\n",
    "import numpy as np\n",
    "import sparse as sp\n",
    "from annotated_types import Ge\n",
    "from loguru import logger\n",
    "from memory_profiler import profile\n",
    "from pydantic import validate_call\n",
    "from tqdm.auto import tqdm\n",
    "\n",
    "from peerannot.models.template import CrowdModel,AnswersDict\n",
    "\n",
    "# load data\n",
    "from toy_data import votes, N_CLASSES, N_WORKERS\n",
    "\n",
    "from peerannot.models.aggregation.DS import DawidSkene"
   ]
  },
  {
   "cell_type": "code",
   "execution_count": null,
   "metadata": {},
   "outputs": [],
   "source": [
    "\n",
    "class DawidSkeneShared(DawidSkene):\n",
    "    \"\"\"\n",
    "    =============================\n",
    "    Dawid and Skene model (1979)\n",
    "    =============================\n",
    "\n",
    "    Assumptions:\n",
    "    - independent workers\n",
    "\n",
    "    Using:\n",
    "    - EM algorithm\n",
    "\n",
    "    Estimating:\n",
    "    - One confusion matrix for each workers\n",
    "    \"\"\"\n",
    "    def _m_step(\n",
    "        self,\n",
    "    ) -> None:\n",
    "        \"\"\"Maximizing log likelihood (see eq. 2.3 and 2.4 Dawid and Skene 1979)\n",
    "\n",
    "        Returns:\n",
    "            :math:`\\\\rho`: :math:`(\\\\rho_j)_j` probabilities that instance has true response j if drawn at random (class marginals)\n",
    "            pi: number of times worker k records l when j is correct\n",
    "        \"\"\"\n",
    "        self.rho = self.T.sum(0) / self.n_task\n",
    "\n",
    "        aggregated_votes = np.einsum(\n",
    "            \"tq, tij -> qj\", self.T, self.crowd_matrix\n",
    "        )  # shape (n_classes, n_classes)\n",
    "        denom = aggregated_votes.sum(\n",
    "            axis=1, keepdims=True\n",
    "        )\n",
    "        # self.shared_pi = aggregated_votes/ np.where(denom <=0, -1e9, denom).reshape(-1,1)\n",
    "        self.shared_pi = np.where(denom > 0, aggregated_votes / denom, 0)\n",
    "\n",
    "    def _e_step(self) -> None:\n",
    "        \"\"\"Estimate indicator variables using a shared confusion matrix\"\"\"\n",
    "\n",
    "        T = np.zeros((self.n_task, self.n_classes))\n",
    "\n",
    "        # use mask instead of power\n",
    "        for i in range(self.n_task):\n",
    "            for j in range(self.n_classes):\n",
    "                num = (\n",
    "                    np.prod(\n",
    "                        np.power(\n",
    "                            self.shared_pi[j, :], self.crowd_matrix[i, :, :]\n",
    "                        )\n",
    "                    )\n",
    "                    * self.rho[j]\n",
    "                )\n",
    "                T[i, j] = num\n",
    "\n",
    "\n",
    "        self.denom_e_step = T.sum(axis=1, keepdims=True)\n",
    "        self.T = np.where(self.denom_e_step > 0, T / self.denom_e_step, T)\n"
   ]
  },
  {
   "cell_type": "code",
   "execution_count": 3,
   "metadata": {},
   "outputs": [
    {
     "name": "stderr",
     "output_type": "stream",
     "text": [
      "\u001b[32m2025-03-21 14:25:50.058\u001b[0m | \u001b[34m\u001b[1mDEBUG   \u001b[0m | \u001b[36m__main__\u001b[0m:\u001b[36minit_crowd_matrix\u001b[0m:\u001b[36m95\u001b[0m - \u001b[34m\u001b[1mDense crowd matrix  5904\u001b[0m\n",
      "\u001b[32m2025-03-21 14:25:50.059\u001b[0m | \u001b[34m\u001b[1mDEBUG   \u001b[0m | \u001b[36m__main__\u001b[0m:\u001b[36minit_T\u001b[0m:\u001b[36m103\u001b[0m - \u001b[34m\u001b[1mSize of T before calc: 1568\u001b[0m\n",
      "\u001b[32m2025-03-21 14:25:50.060\u001b[0m | \u001b[34m\u001b[1mDEBUG   \u001b[0m | \u001b[36m__main__\u001b[0m:\u001b[36minit_T\u001b[0m:\u001b[36m107\u001b[0m - \u001b[34m\u001b[1mSize of T: 1568\u001b[0m\n",
      "Finished: 100%|██████████| 50/50 [00:00<00:00, 354.03it/s]       \n"
     ]
    },
    {
     "data": {
      "text/plain": [
       "array([2, 2, 8, 1, 4, 0, 5, 3, 7, 8, 0, 5, 8, 5, 4, 7, 4, 7, 5, 7])"
      ]
     },
     "execution_count": 3,
     "metadata": {},
     "output_type": "execute_result"
    }
   ],
   "source": [
    "dss = DawidSkeneShared(answers=votes, n_workers=N_WORKERS, n_classes=N_CLASSES, sparse=False)\n",
    "dss.run()\n",
    "dss.get_answers()"
   ]
  },
  {
   "cell_type": "code",
   "execution_count": 4,
   "metadata": {},
   "outputs": [
    {
     "data": {
      "text/plain": [
       "array([1.34007145e-48, 0.00000000e+00, 0.00000000e+00, 2.22660942e-01,\n",
       "       7.51323096e-01, 1.12126806e-29, 2.60159623e-02, 0.00000000e+00,\n",
       "       0.00000000e+00])"
      ]
     },
     "execution_count": 4,
     "metadata": {},
     "output_type": "execute_result"
    }
   ],
   "source": [
    "dss.T[4]"
   ]
  },
  {
   "cell_type": "code",
   "execution_count": 5,
   "metadata": {},
   "outputs": [
    {
     "data": {
      "text/plain": [
       "np.float64(0.042191024486190984)"
      ]
     },
     "execution_count": 5,
     "metadata": {},
     "output_type": "execute_result"
    }
   ],
   "source": [
    "dss.log_likelihood()"
   ]
  },
  {
   "cell_type": "code",
   "execution_count": 6,
   "metadata": {},
   "outputs": [
    {
     "name": "stderr",
     "output_type": "stream",
     "text": [
      "\u001b[32m2025-03-21 14:25:50.243\u001b[0m | \u001b[34m\u001b[1mDEBUG   \u001b[0m | \u001b[36mpeerannot.models.aggregation.DS\u001b[0m:\u001b[36minit_crowd_matrix\u001b[0m:\u001b[36m128\u001b[0m - \u001b[34m\u001b[1mDense crowd matrix  5904\u001b[0m\n",
      "\u001b[32m2025-03-21 14:25:50.244\u001b[0m | \u001b[34m\u001b[1mDEBUG   \u001b[0m | \u001b[36mpeerannot.models.aggregation.DS\u001b[0m:\u001b[36m__init__\u001b[0m:\u001b[36m93\u001b[0m - \u001b[34m\u001b[1mDense Crowd matrix5904\u001b[0m\n",
      "\u001b[32m2025-03-21 14:25:50.245\u001b[0m | \u001b[34m\u001b[1mDEBUG   \u001b[0m | \u001b[36mpeerannot.models.aggregation.DS\u001b[0m:\u001b[36minit_T\u001b[0m:\u001b[36m135\u001b[0m - \u001b[34m\u001b[1mSize of T before calc: 1568\u001b[0m\n",
      "\u001b[32m2025-03-21 14:25:50.246\u001b[0m | \u001b[34m\u001b[1mDEBUG   \u001b[0m | \u001b[36mpeerannot.models.aggregation.DS\u001b[0m:\u001b[36minit_T\u001b[0m:\u001b[36m139\u001b[0m - \u001b[34m\u001b[1mSize of T: 1568\u001b[0m\n",
      "Finished: 100%|██████████| 1/1 [00:00<00:00, 327.60it/s]\n",
      "/home/jozef/Desktop/repos/peerannot/peerannot/models/aggregation/DS.py:335: DidNotConverge: DawidSkene did not converge: err=inf, epsilon=1e-06.\n",
      "  return self.run_dense(\n"
     ]
    },
    {
     "data": {
      "text/plain": [
       "array([2, 2, 8, 1, 4, 0, 3, 3, 7, 1, 0, 3, 8, 3, 4, 7, 4, 7, 3, 7])"
      ]
     },
     "execution_count": 6,
     "metadata": {},
     "output_type": "execute_result"
    }
   ],
   "source": [
    "from peerannot.models import DawidSkene\n",
    "ds = DawidSkene(answers=votes, n_workers=N_WORKERS, n_classes=N_CLASSES, sparse=False)\n",
    "ds.run(maxiter=1,verbose=True)\n",
    "ds.get_answers()"
   ]
  }
 ],
 "metadata": {
  "kernelspec": {
   "display_name": ".venv",
   "language": "python",
   "name": "python3"
  },
  "language_info": {
   "codemirror_mode": {
    "name": "ipython",
    "version": 3
   },
   "file_extension": ".py",
   "mimetype": "text/x-python",
   "name": "python",
   "nbconvert_exporter": "python",
   "pygments_lexer": "ipython3",
   "version": "3.12.3"
  }
 },
 "nbformat": 4,
 "nbformat_minor": 2
}
