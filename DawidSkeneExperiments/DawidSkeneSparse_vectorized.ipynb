{
 "cells": [
  {
   "cell_type": "code",
   "execution_count": null,
   "metadata": {},
   "outputs": [],
   "source": [
    "from sys import getsizeof\n",
    "\n",
    "import numpy as np\n",
    "import sparse as sp\n",
    "from loguru import logger\n",
    "from numpy.typing import NDArray\n",
    "\n",
    "from peerannot.models.aggregation.DS import DawidSkene\n",
    "\n",
    "\n",
    "class DawidSkeneSparse(DawidSkene):\n",
    "    def _init_crowd_matrix(self) -> None:\n",
    "        \"\"\"Transform dictionnary of labels to a tensor of size\n",
    "        (n_task, n_workers, n_classes).\"\"\"\n",
    "        # TODO crowd matrix usually will be sparse, maybe there is another\n",
    "        #  better implementation for it\n",
    "        crowd_matrix = sp.DOK(\n",
    "            (self.n_task, self.n_workers, self.n_classes),\n",
    "            dtype=bool,\n",
    "        )\n",
    "\n",
    "        for task, ans in self.answers.items():\n",
    "            for worker, label in ans.items():\n",
    "                crowd_matrix[task, worker, label] = True\n",
    "\n",
    "        self.crowd_matrix = crowd_matrix.to_coo()\n",
    "        logger.debug(\n",
    "            f\"Size of sparse crowd matrix: {getsizeof(self.crowd_matrix)}\",\n",
    "        )\n",
    "\n",
    "    def _init_T(self) -> None:\n",
    "        \"\"\"NS initialization\"\"\"\n",
    "        # T shape is n_task, n_classes\n",
    "        T = self.crowd_matrix.sum(axis=1)\n",
    "\n",
    "        tdim = T.sum(1, keepdims=True).todense()\n",
    "        self.T = np.where(tdim > 0, T / tdim, 0)\n",
    "\n",
    "    def _m_step(\n",
    "        self,\n",
    "    ) -> None:\n",
    "        \"\"\"Maximizing log likelihood (see eq. 2.3 and 2.4 Dawid and Skene 1979)\n",
    "\n",
    "        Returns:\n",
    "            :math:`\\\\rho`: :math:`(\\\\rho_j)_j` probabilities that instance has true response j if drawn at random (class marginals)\n",
    "            pi: number of times worker k records l when j is correct\n",
    "        \"\"\"\n",
    "        # pi could be bigger, at least inner 2d matrices should be implemented as sparse, probably the easiest way to create is to use dok array\n",
    "\n",
    "        self.rho = self.T.sum(axis=0) / self.n_task\n",
    "\n",
    "        pi = sp.einsum(\"tq,twc->wqc\", self.T, self.crowd_matrix)\n",
    "        denom = pi.sum(axis=2, keepdims=True)\n",
    "        self.pi = pi / sp.where(denom <= 0, -1e9, denom)\n",
    "\n",
    "\n",
    "    def _e_step(self) -> None:\n",
    "        \"\"\"Estimate indicator variables (see eq. 2.5 Dawid and Skene 1979)\"\"\"\n",
    "\n",
    "        exp_pi = np.power(self.pi[np.newaxis, :, :, :], self.crowd_matrix[:, :, np.newaxis, :])\n",
    "        # numerator by taking the product over the worker axis\n",
    "        num = np.prod(exp_pi, axis=3).prod(axis=1) * self.rho[np.newaxis, :]\n",
    "        self.denom_e_step = num.sum(axis=1, keepdims=True).todense()\n",
    "        self.T = np.where(self.denom_e_step > 0, num / self.denom_e_step, num)\n",
    "\n",
    "\n",
    "\n",
    "    def get_answers(self) -> NDArray:\n",
    "        \"\"\"Get most probable labels\"\"\"\n",
    "\n",
    "        return np.vectorize(self.inv_labels.get)(\n",
    "            sp.argmax(self.T, axis=1).todense(),\n",
    "        )\n"
   ]
  },
  {
   "cell_type": "code",
   "execution_count": 1,
   "metadata": {},
   "outputs": [
    {
     "ename": "NameError",
     "evalue": "name 'DawidSkeneSparse' is not defined",
     "output_type": "error",
     "traceback": [
      "\u001b[31m---------------------------------------------------------------------------\u001b[39m",
      "\u001b[31mNameError\u001b[39m                                 Traceback (most recent call last)",
      "\u001b[36mCell\u001b[39m\u001b[36m \u001b[39m\u001b[32mIn[1]\u001b[39m\u001b[32m, line 4\u001b[39m\n\u001b[32m      1\u001b[39m \u001b[38;5;66;03m#%%\u001b[39;00m\n\u001b[32m      2\u001b[39m \u001b[38;5;28;01mfrom\u001b[39;00m\u001b[38;5;250m \u001b[39m\u001b[34;01mtoy_data\u001b[39;00m\u001b[38;5;250m \u001b[39m\u001b[38;5;28;01mimport\u001b[39;00m N_CLASSES, N_WORKERS, votes\n\u001b[32m----> \u001b[39m\u001b[32m4\u001b[39m dss = \u001b[43mDawidSkeneSparse\u001b[49m(answers=votes, n_workers=N_WORKERS, n_classes=N_CLASSES)\n\u001b[32m      5\u001b[39m dss.run()\n",
      "\u001b[31mNameError\u001b[39m: name 'DawidSkeneSparse' is not defined"
     ]
    }
   ],
   "source": [
    "#%%\n",
    "from toy_data import N_CLASSES, N_WORKERS, votes\n",
    "\n",
    "dss = DawidSkeneSparse(answers=votes, n_workers=N_WORKERS, n_classes=N_CLASSES)\n",
    "dss.run()"
   ]
  }
 ],
 "metadata": {
  "kernelspec": {
   "display_name": ".venv",
   "language": "python",
   "name": "python3"
  },
  "language_info": {
   "codemirror_mode": {
    "name": "ipython",
    "version": 3
   },
   "file_extension": ".py",
   "mimetype": "text/x-python",
   "name": "python",
   "nbconvert_exporter": "python",
   "pygments_lexer": "ipython3",
   "version": "3.12.3"
  }
 },
 "nbformat": 4,
 "nbformat_minor": 2
}
