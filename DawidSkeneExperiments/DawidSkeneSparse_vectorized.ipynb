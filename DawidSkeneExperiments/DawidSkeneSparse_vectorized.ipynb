{
 "cells": [
  {
   "cell_type": "code",
   "execution_count": null,
   "metadata": {},
   "outputs": [],
   "source": [
    "from sys import getsizeof\n",
    "\n",
    "import numpy as np\n",
    "import sparse as sp\n",
    "from loguru import logger\n",
    "from numpy.typing import NDArray\n",
    "\n",
    "from peerannot.models.aggregation.dawid_skene import DawidSkene\n",
    "\n",
    "\n",
    "class DawidSkeneSparse(DawidSkene):\n",
    "    def _init_crowd_matrix(self) -> None:\n",
    "        \"\"\"Transform dictionnary of labels to a tensor of size\n",
    "        (n_task, n_workers, n_classes).\"\"\"\n",
    "        # TODO crowd matrix usually will be sparse, maybe there is another\n",
    "        #  better implementation for it\n",
    "        crowd_matrix = sp.DOK(\n",
    "            (self.n_task, self.n_workers, self.n_classes),\n",
    "            dtype=bool,\n",
    "        )\n",
    "\n",
    "        for task, ans in self.answers.items():\n",
    "            for worker, label in ans.items():\n",
    "                crowd_matrix[task, worker, label] = True\n",
    "\n",
    "        self.crowd_matrix = crowd_matrix.to_coo()\n",
    "        logger.debug(\n",
    "            f\"Size of sparse crowd matrix: {getsizeof(self.crowd_matrix)}\",\n",
    "        )\n",
    "\n",
    "    def _init_T(self) -> None:\n",
    "        \"\"\"NS initialization\"\"\"\n",
    "        # T shape is n_task, n_classes\n",
    "        T = self.crowd_matrix.sum(axis=1)\n",
    "\n",
    "        tdim = T.sum(1, keepdims=True).todense()\n",
    "        self.T = np.where(tdim > 0, T / tdim, 0)\n",
    "\n",
    "    def _m_step(\n",
    "        self,\n",
    "    ) -> None:\n",
    "        \"\"\"Maximizing log likelihood (see eq. 2.3 and 2.4 Dawid and Skene 1979)\n",
    "\n",
    "        Returns:\n",
    "            :math:`\\\\rho`: :math:`(\\\\rho_j)_j` probabilities that instance has true response j if drawn at random (class marginals)\n",
    "            pi: number of times worker k records l when j is correct\n",
    "        \"\"\"\n",
    "        # pi could be bigger, at least inner 2d matrices should be implemented as sparse, probably the easiest way to create is to use dok array\n",
    "\n",
    "        self.rho = self.T.sum(axis=0) / self.n_task\n",
    "\n",
    "        pi = sp.einsum(\"tq,twc->wqc\", self.T, self.crowd_matrix)\n",
    "        denom = pi.sum(axis=2, keepdims=True)\n",
    "        self.pi = pi / sp.where(denom <= 0, -1e9, denom)\n",
    "\n",
    "\n",
    "    def _e_step(self) -> None:\n",
    "        \"\"\"Estimate indicator variables (see eq. 2.5 Dawid and Skene 1979)\"\"\"\n",
    "\n",
    "        exp_pi = np.power(self.pi[np.newaxis, :, :, :], self.crowd_matrix[:, :, np.newaxis, :])\n",
    "        # numerator by taking the product over the worker axis\n",
    "        num = np.prod(exp_pi, axis=3).prod(axis=1) * self.rho[np.newaxis, :]\n",
    "        self.denom_e_step = num.sum(axis=1, keepdims=True).todense()\n",
    "        self.T = np.where(self.denom_e_step > 0, num / self.denom_e_step, num)\n",
    "\n",
    "\n",
    "\n",
    "    def get_answers(self) -> NDArray:\n",
    "        \"\"\"Get most probable labels\"\"\"\n",
    "\n",
    "        return np.vectorize(self.inv_labels.get)(\n",
    "            sp.argmax(self.T, axis=1).todense(),\n",
    "        )\n"
   ]
  },
  {
   "cell_type": "code",
   "execution_count": 2,
   "metadata": {},
   "outputs": [
    {
     "name": "stderr",
     "output_type": "stream",
     "text": [
      "\u001b[32m2025-04-04 16:59:07.959\u001b[0m | \u001b[34m\u001b[1mDEBUG   \u001b[0m | \u001b[36m__main__\u001b[0m:\u001b[36m_init_crowd_matrix\u001b[0m:\u001b[36m27\u001b[0m - \u001b[34m\u001b[1mSize of sparse crowd matrix: 1257\u001b[0m\n"
     ]
    },
    {
     "data": {
      "application/vnd.jupyter.widget-view+json": {
       "model_id": "f37a88b0e4864ea7b54c600166a7e515",
       "version_major": 2,
       "version_minor": 0
      },
      "text/plain": [
       "Dawid and Skene:   0%|          | 0/50 [00:00<?, ?it/s]"
      ]
     },
     "metadata": {},
     "output_type": "display_data"
    },
    {
     "data": {
      "text/plain": [
       "array([2, 2, 8, 1, 4, 0, 5, 3, 7, 1, 0, 3, 8, 3, 4, 7, 4, 7, 3, 7])"
      ]
     },
     "execution_count": 2,
     "metadata": {},
     "output_type": "execute_result"
    }
   ],
   "source": [
    "#%%\n",
    "from toy_data import N_CLASSES, N_WORKERS, votes\n",
    "\n",
    "dss = DawidSkeneSparse(answers=votes, n_workers=N_WORKERS, n_classes=N_CLASSES)\n",
    "dss.run()\n",
    "dss.get_answers()\n",
    "\n"
   ]
  },
  {
   "cell_type": "code",
   "execution_count": 10,
   "metadata": {},
   "outputs": [
    {
     "name": "stdout",
     "output_type": "stream",
     "text": [
      "The memray extension is already loaded. To reload it, use:\n",
      "  %reload_ext memray\n"
     ]
    }
   ],
   "source": [
    "%load_ext memray\n",
    "import json\n",
    "\n",
    "with open(\"../datasets/cifar10H/answers.json\") as answers:\n",
    "    votes = json.loads(answers.read())"
   ]
  },
  {
   "cell_type": "code",
   "execution_count": 11,
   "metadata": {},
   "outputs": [
    {
     "name": "stderr",
     "output_type": "stream",
     "text": [
      "\u001b[32m2025-04-04 17:10:06.451\u001b[0m | \u001b[34m\u001b[1mDEBUG   \u001b[0m | \u001b[36m__main__\u001b[0m:\u001b[36m_init_crowd_matrix\u001b[0m:\u001b[36m27\u001b[0m - \u001b[34m\u001b[1mSize of sparse crowd matrix: 12211232\u001b[0m\n"
     ]
    },
    {
     "data": {
      "application/vnd.jupyter.widget-view+json": {
       "model_id": "5eaea049c6cb4f75b105cf81920a0180",
       "version_major": 2,
       "version_minor": 0
      },
      "text/plain": [
       "Dawid and Skene:   0%|          | 0/400 [00:00<?, ?it/s]"
      ]
     },
     "metadata": {},
     "output_type": "display_data"
    },
    {
     "data": {
      "application/vnd.jupyter.widget-view+json": {
       "model_id": "6b8ad81522fc451fbdee2a695f68321c",
       "version_major": 2,
       "version_minor": 0
      },
      "text/plain": [
       "Output()"
      ]
     },
     "metadata": {},
     "output_type": "display_data"
    },
    {
     "data": {
      "text/html": [
       "<pre style=\"white-space:pre;overflow-x:auto;line-height:normal;font-family:Menlo,'DejaVu Sans Mono',consolas,'Courier New',monospace\"></pre>\n"
      ],
      "text/plain": []
     },
     "metadata": {},
     "output_type": "display_data"
    },
    {
     "data": {
      "application/vnd.jupyter.widget-view+json": {
       "model_id": "d9ee3b76bff64032bb6a75a736ea6918",
       "version_major": 2,
       "version_minor": 0
      },
      "text/plain": [
       "Output()"
      ]
     },
     "metadata": {},
     "output_type": "display_data"
    },
    {
     "data": {
      "text/html": [
       "<pre style=\"white-space:pre;overflow-x:auto;line-height:normal;font-family:Menlo,'DejaVu Sans Mono',consolas,'Courier New',monospace\"></pre>\n"
      ],
      "text/plain": []
     },
     "metadata": {},
     "output_type": "display_data"
    },
    {
     "data": {
      "text/html": [
       "<pre style=\"white-space:pre;overflow-x:auto;line-height:normal;font-family:Menlo,'DejaVu Sans Mono',consolas,'Courier New',monospace\">Results saved to \n",
       "<span style=\"color: #008080; text-decoration-color: #008080; font-weight: bold\">/home/jozef/Desktop/repos/peerannot/DawidSkeneExperiments/memray-results/tmpoqabpwy9/flamegraph.html</span>\n",
       "</pre>\n"
      ],
      "text/plain": [
       "Results saved to \n",
       "\u001b[1;36m/home/jozef/Desktop/repos/peerannot/DawidSkeneExperiments/memray-results/tmpoqabpwy9/\u001b[0m\u001b[1;36mflamegraph.html\u001b[0m\n"
      ]
     },
     "metadata": {},
     "output_type": "display_data"
    },
    {
     "data": {
      "text/html": [
       "\n",
       "        <iframe\n",
       "            width=\"100%\"\n",
       "            height=\"600\"\n",
       "            src=\"/home/jozef/Desktop/repos/peerannot/DawidSkeneExperiments/memray-results/tmpoqabpwy9/flamegraph.html\"\n",
       "            frameborder=\"0\"\n",
       "            allowfullscreen\n",
       "            \n",
       "        ></iframe>\n",
       "        "
      ],
      "text/plain": [
       "<IPython.lib.display.IFrame at 0x798e2851a7b0>"
      ]
     },
     "metadata": {},
     "output_type": "display_data"
    }
   ],
   "source": [
    "\n",
    "%%memray_flamegraph --trace-python-allocators\n",
    "dss_vectorized = DawidSkeneSparse(answers=votes, n_workers=2571, n_classes=10)\n",
    "dss_vectorized.run(maxiter=400)\n",
    "dss_vectorized.get_answers()"
   ]
  },
  {
   "cell_type": "code",
   "execution_count": 5,
   "metadata": {},
   "outputs": [
    {
     "name": "stderr",
     "output_type": "stream",
     "text": [
      "\u001b[32m2025-04-04 17:02:06.906\u001b[0m | \u001b[34m\u001b[1mDEBUG   \u001b[0m | \u001b[36mpeerannot.models.aggregation.DS\u001b[0m:\u001b[36m_init_crowd_matrix\u001b[0m:\u001b[36m107\u001b[0m - \u001b[34m\u001b[1mSize of dense crowd matrix: 244245144\u001b[0m\n"
     ]
    },
    {
     "data": {
      "application/vnd.jupyter.widget-view+json": {
       "model_id": "493749524cb849039c161b3943143ac4",
       "version_major": 2,
       "version_minor": 0
      },
      "text/plain": [
       "Dawid and Skene:   0%|          | 0/400 [00:00<?, ?it/s]"
      ]
     },
     "metadata": {},
     "output_type": "display_data"
    },
    {
     "data": {
      "application/vnd.jupyter.widget-view+json": {
       "model_id": "8f01d7d8f5034e11aa5ce64a22592a56",
       "version_major": 2,
       "version_minor": 0
      },
      "text/plain": [
       "Output()"
      ]
     },
     "metadata": {},
     "output_type": "display_data"
    },
    {
     "data": {
      "text/html": [
       "<pre style=\"white-space:pre;overflow-x:auto;line-height:normal;font-family:Menlo,'DejaVu Sans Mono',consolas,'Courier New',monospace\"></pre>\n"
      ],
      "text/plain": []
     },
     "metadata": {},
     "output_type": "display_data"
    },
    {
     "data": {
      "application/vnd.jupyter.widget-view+json": {
       "model_id": "3b5e5b3bdc4540daaf06701bda2fff43",
       "version_major": 2,
       "version_minor": 0
      },
      "text/plain": [
       "Output()"
      ]
     },
     "metadata": {},
     "output_type": "display_data"
    },
    {
     "data": {
      "text/html": [
       "<pre style=\"white-space:pre;overflow-x:auto;line-height:normal;font-family:Menlo,'DejaVu Sans Mono',consolas,'Courier New',monospace\"></pre>\n"
      ],
      "text/plain": []
     },
     "metadata": {},
     "output_type": "display_data"
    },
    {
     "data": {
      "text/html": [
       "<pre style=\"white-space:pre;overflow-x:auto;line-height:normal;font-family:Menlo,'DejaVu Sans Mono',consolas,'Courier New',monospace\">Results saved to \n",
       "<span style=\"color: #008080; text-decoration-color: #008080; font-weight: bold\">/home/jozef/Desktop/repos/peerannot/DawidSkeneExperiments/memray-results/tmpsscxpfma/flamegraph.html</span>\n",
       "</pre>\n"
      ],
      "text/plain": [
       "Results saved to \n",
       "\u001b[1;36m/home/jozef/Desktop/repos/peerannot/DawidSkeneExperiments/memray-results/tmpsscxpfma/\u001b[0m\u001b[1;36mflamegraph.html\u001b[0m\n"
      ]
     },
     "metadata": {},
     "output_type": "display_data"
    },
    {
     "data": {
      "text/html": [
       "\n",
       "        <iframe\n",
       "            width=\"100%\"\n",
       "            height=\"600\"\n",
       "            src=\"/home/jozef/Desktop/repos/peerannot/DawidSkeneExperiments/memray-results/tmpsscxpfma/flamegraph.html\"\n",
       "            frameborder=\"0\"\n",
       "            allowfullscreen\n",
       "            \n",
       "        ></iframe>\n",
       "        "
      ],
      "text/plain": [
       "<IPython.lib.display.IFrame at 0x798e2851a7b0>"
      ]
     },
     "metadata": {},
     "output_type": "display_data"
    }
   ],
   "source": [
    "%%memray_flamegraph --trace-python-allocators\n",
    "\n",
    "import json\n",
    "with open(\"../datasets/cifar10H/answers.json\") as answers:\n",
    "    votes = json.loads(answers.read())\n",
    "\n",
    "dss_vectorized = DawidSkene(answers=votes, n_workers=2571, n_classes=10)\n",
    "dss_vectorized.run(maxiter=400)\n",
    "dss_vectorized.get_answers()"
   ]
  }
 ],
 "metadata": {
  "kernelspec": {
   "display_name": ".venv",
   "language": "python",
   "name": "python3"
  },
  "language_info": {
   "codemirror_mode": {
    "name": "ipython",
    "version": 3
   },
   "file_extension": ".py",
   "mimetype": "text/x-python",
   "name": "python",
   "nbconvert_exporter": "python",
   "pygments_lexer": "ipython3",
   "version": "3.12.3"
  }
 },
 "nbformat": 4,
 "nbformat_minor": 2
}
