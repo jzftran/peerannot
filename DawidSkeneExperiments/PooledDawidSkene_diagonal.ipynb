{
 "cells": [
  {
   "cell_type": "markdown",
   "metadata": {},
   "source": [
    "# Dawid-Skene Algorithm using the shared diagonal of the confucion matrix\n",
    "\n"
   ]
  },
  {
   "cell_type": "code",
   "execution_count": 40,
   "metadata": {},
   "outputs": [],
   "source": [
    "\n",
    "from types import MethodType\n",
    "\n",
    "import numpy as np\n",
    "\n",
    "# load data\n",
    "from toy_data import N_CLASSES, N_WORKERS, votes\n",
    "\n",
    "from peerannot.models import DawidSkene"
   ]
  },
  {
   "cell_type": "code",
   "execution_count": null,
   "metadata": {},
   "outputs": [],
   "source": [
    "class PooledDawidSkeneDiagonal(DawidSkene):\n",
    "    \"\"\"\n",
    "    =============================\n",
    "    Dawid and Skene model (1979)\n",
    "    =============================\n",
    "\n",
    "    Assumptions:\n",
    "    - independent workers\n",
    "\n",
    "    Using:\n",
    "    - EM algorithm\n",
    "\n",
    "    Estimating:\n",
    "    - One diagonal matrix that is the same for each worker\n",
    "    \"\"\"\n",
    "\n",
    "    def _m_step(self) -> None:\n",
    "        \"\"\"Maximizing log likelihood with only diagonal elements of pi.\"\"\"\n",
    "        self.rho = self.T.sum(0) / self.n_task\n",
    "\n",
    "        diag_votes = np.einsum(\"tq, tiq -> q\", self.T, self.crowd_matrix)\n",
    "        denom = np.einsum(\"tq, tij -> q\", self.T, self.crowd_matrix)\n",
    "\n",
    "        self.pi = diag_votes/denom\n",
    "        self.pi_non_diag_values = (np.ones_like(self.pi) -self.pi) / (self.n_classes - 1)\n",
    "\n",
    "\n",
    "    def _e_step(self) -> None:\n",
    "        \"\"\"Estimate indicator variables (see eq. 2.5 Dawid and Skene 1979)\n",
    "\n",
    "        Returns:\n",
    "            T: New estimate for indicator variables (n_task, n_worker)\n",
    "            denom: value used to compute likelihood easily\n",
    "        \"\"\"\n",
    "        T = np.zeros((self.n_task, self.n_classes))\n",
    "\n",
    "        for i in range(self.n_task):\n",
    "            for j in range(self.n_classes):\n",
    "                worker_labels = self.crowd_matrix[i]\n",
    "                diag_contrib = np.prod(np.power(self.pi, worker_labels))\n",
    "                mask = np.ones(self.n_classes, dtype=bool)\n",
    "                mask[j] = False\n",
    "                off_diag_contrib = np.prod(np.power(self.pi_non_diag_values[mask], worker_labels[:, mask]))\n",
    "\n",
    "                T[i,j] = diag_contrib * off_diag_contrib * self.rho[j]\n",
    "\n",
    "        self.denom_e_step = T.sum(1, keepdims=True)\n",
    "        self.T = np.where(self.denom_e_step > 0, T/ self.denom_e_step, T)\n"
   ]
  },
  {
   "cell_type": "code",
   "execution_count": 42,
   "metadata": {},
   "outputs": [
    {
     "name": "stderr",
     "output_type": "stream",
     "text": [
      "\u001b[32m2025-03-28 15:32:58.247\u001b[0m | \u001b[34m\u001b[1mDEBUG   \u001b[0m | \u001b[36mpeerannot.models.aggregation.DS\u001b[0m:\u001b[36minit_crowd_matrix\u001b[0m:\u001b[36m105\u001b[0m - \u001b[34m\u001b[1mDense crowd matrix  5904\u001b[0m\n",
      "\u001b[32m2025-03-28 15:32:58.248\u001b[0m | \u001b[34m\u001b[1mDEBUG   \u001b[0m | \u001b[36mpeerannot.models.aggregation.DS\u001b[0m:\u001b[36m__init__\u001b[0m:\u001b[36m83\u001b[0m - \u001b[34m\u001b[1mDense Crowd matrix5904\u001b[0m\n",
      "\u001b[32m2025-03-28 15:32:58.248\u001b[0m | \u001b[34m\u001b[1mDEBUG   \u001b[0m | \u001b[36mpeerannot.models.aggregation.DS\u001b[0m:\u001b[36minit_T\u001b[0m:\u001b[36m112\u001b[0m - \u001b[34m\u001b[1mSize of T before calc: 1568\u001b[0m\n",
      "\u001b[32m2025-03-28 15:32:58.249\u001b[0m | \u001b[34m\u001b[1mDEBUG   \u001b[0m | \u001b[36mpeerannot.models.aggregation.DS\u001b[0m:\u001b[36minit_T\u001b[0m:\u001b[36m116\u001b[0m - \u001b[34m\u001b[1mSize of T: 1568\u001b[0m\n",
      "\n",
      "\n",
      "\u001b[A\u001b[A\n",
      "\n",
      "Finished:  12%|█▏        | 12/100 [00:00<00:00, 310.62it/s]\n"
     ]
    },
    {
     "data": {
      "text/plain": [
       "array([2, 2, 8, 1, 4, 0, 3, 3, 7, 1, 0, 3, 7, 3, 4, 7, 4, 7, 3, 7])"
      ]
     },
     "execution_count": 42,
     "metadata": {},
     "output_type": "execute_result"
    }
   ],
   "source": [
    "pdsd = PooledDawidSkeneDiagonal(\n",
    "    answers=votes, n_workers=N_WORKERS, n_classes=N_CLASSES,\n",
    ")\n",
    "\n",
    "pdsd.run(maxiter=100)\n",
    "pdsd.get_answers()"
   ]
  }
 ],
 "metadata": {
  "kernelspec": {
   "display_name": ".venv",
   "language": "python",
   "name": "python3"
  },
  "language_info": {
   "codemirror_mode": {
    "name": "ipython",
    "version": 3
   },
   "file_extension": ".py",
   "mimetype": "text/x-python",
   "name": "python",
   "nbconvert_exporter": "python",
   "pygments_lexer": "ipython3",
   "version": "3.12.3"
  }
 },
 "nbformat": 4,
 "nbformat_minor": 2
}
