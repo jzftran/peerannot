{
 "cells": [
  {
   "cell_type": "code",
   "execution_count": null,
   "metadata": {},
   "outputs": [
    {
     "name": "stderr",
     "output_type": "stream",
     "text": [
      "/home/jozef/Desktop/repos/peerannot/.venv/lib/python3.12/site-packages/tqdm/auto.py:21: TqdmWarning: IProgress not found. Please update jupyter and ipywidgets. See https://ipywidgets.readthedocs.io/en/stable/user_install.html\n",
      "  from .autonotebook import tqdm as notebook_tqdm\n"
     ]
    }
   ],
   "source": [
    "\n",
    "import numpy as np\n",
    "\n",
    "# load data\n",
    "from toy_data import N_CLASSES, N_WORKERS, votes\n",
    "\n",
    "from peerannot.models import DawidSkene\n"
   ]
  },
  {
   "cell_type": "code",
   "execution_count": 197,
   "metadata": {},
   "outputs": [
    {
     "name": "stderr",
     "output_type": "stream",
     "text": [
      "\u001b[32m2025-03-27 16:28:05.276\u001b[0m | \u001b[34m\u001b[1mDEBUG   \u001b[0m | \u001b[36mpeerannot.models.aggregation.DS\u001b[0m:\u001b[36minit_crowd_matrix\u001b[0m:\u001b[36m105\u001b[0m - \u001b[34m\u001b[1mDense crowd matrix  5904\u001b[0m\n",
      "\u001b[32m2025-03-27 16:28:05.277\u001b[0m | \u001b[34m\u001b[1mDEBUG   \u001b[0m | \u001b[36mpeerannot.models.aggregation.DS\u001b[0m:\u001b[36m__init__\u001b[0m:\u001b[36m83\u001b[0m - \u001b[34m\u001b[1mDense Crowd matrix5904\u001b[0m\n",
      "\u001b[32m2025-03-27 16:28:05.277\u001b[0m | \u001b[34m\u001b[1mDEBUG   \u001b[0m | \u001b[36mpeerannot.models.aggregation.DS\u001b[0m:\u001b[36minit_T\u001b[0m:\u001b[36m112\u001b[0m - \u001b[34m\u001b[1mSize of T before calc: 1568\u001b[0m\n",
      "\u001b[32m2025-03-27 16:28:05.278\u001b[0m | \u001b[34m\u001b[1mDEBUG   \u001b[0m | \u001b[36mpeerannot.models.aggregation.DS\u001b[0m:\u001b[36minit_T\u001b[0m:\u001b[36m116\u001b[0m - \u001b[34m\u001b[1mSize of T: 1568\u001b[0m\n",
      "Finished:  87%|████████▋ | 61/70 [00:00<00:00, 712.47it/s]\n"
     ]
    },
    {
     "data": {
      "text/plain": [
       "array([2, 2, 7, 1, 4, 0, 3, 4, 7, 1, 0, 3, 7, 3, 4, 7, 4, 7, 3, 7])"
      ]
     },
     "execution_count": 197,
     "metadata": {},
     "output_type": "execute_result"
    }
   ],
   "source": [
    "# dirty implementation just for comparison\n",
    "\n",
    "class PoooledMultinomialBinaryCrude(DawidSkene):\n",
    "    def _m_step(self) -> None:\n",
    "        \"\"\"Maximizing log likelihood with a single confusion matrix shared across all workers.\"\"\"\n",
    "\n",
    "        self.rho = self.T.sum(0) / self.n_task\n",
    "\n",
    "        pi = np.zeros((self.n_workers, self.n_classes, self.n_classes))\n",
    "        for q in range(self.n_classes):\n",
    "            pij = self.T[:, q] @ self.crowd_matrix.transpose((1, 0, 2))\n",
    "            denom = pij.sum(1)\n",
    "            pi[:, q, :] = pij / np.where(denom <= 0, -1e9, denom).reshape(\n",
    "                -1, 1,\n",
    "            )\n",
    "\n",
    "\n",
    "        alpha = np.diag(np.sum(pi,axis=0)/self.n_workers).mean()\n",
    "        pij = np.full((self.n_classes, self.n_classes), (1 - alpha) / (self.n_classes - 1))\n",
    "        np.fill_diagonal(pij, alpha)\n",
    "\n",
    "\n",
    "        for k in range(self.n_workers):\n",
    "            pi[k] = pij\n",
    "\n",
    "        self.pi = pi\n",
    "\n",
    "pmbc = PoooledMultinomialBinaryCrude(votes, N_WORKERS, N_CLASSES)\n",
    "pmbc.run(maxiter=70)\n",
    "pmbc.get_answers()"
   ]
  },
  {
   "cell_type": "code",
   "execution_count": 196,
   "metadata": {},
   "outputs": [
    {
     "name": "stderr",
     "output_type": "stream",
     "text": [
      "\u001b[32m2025-03-27 16:27:57.420\u001b[0m | \u001b[34m\u001b[1mDEBUG   \u001b[0m | \u001b[36mpeerannot.models.aggregation.DS\u001b[0m:\u001b[36minit_crowd_matrix\u001b[0m:\u001b[36m105\u001b[0m - \u001b[34m\u001b[1mDense crowd matrix  5904\u001b[0m\n",
      "\u001b[32m2025-03-27 16:27:57.421\u001b[0m | \u001b[34m\u001b[1mDEBUG   \u001b[0m | \u001b[36mpeerannot.models.aggregation.DS\u001b[0m:\u001b[36m__init__\u001b[0m:\u001b[36m83\u001b[0m - \u001b[34m\u001b[1mDense Crowd matrix5904\u001b[0m\n",
      "\u001b[32m2025-03-27 16:27:57.422\u001b[0m | \u001b[34m\u001b[1mDEBUG   \u001b[0m | \u001b[36mpeerannot.models.aggregation.DS\u001b[0m:\u001b[36minit_T\u001b[0m:\u001b[36m112\u001b[0m - \u001b[34m\u001b[1mSize of T before calc: 1568\u001b[0m\n",
      "\u001b[32m2025-03-27 16:27:57.422\u001b[0m | \u001b[34m\u001b[1mDEBUG   \u001b[0m | \u001b[36mpeerannot.models.aggregation.DS\u001b[0m:\u001b[36minit_T\u001b[0m:\u001b[36m116\u001b[0m - \u001b[34m\u001b[1mSize of T: 1568\u001b[0m\n",
      "Finished:  51%|█████     | 51/100 [00:00<00:00, 230.04it/s]       \n"
     ]
    },
    {
     "data": {
      "text/plain": [
       "array([2, 2, 7, 1, 4, 0, 3, 4, 7, 1, 0, 3, 7, 3, 4, 7, 4, 7, 3, 7])"
      ]
     },
     "execution_count": 196,
     "metadata": {},
     "output_type": "execute_result"
    }
   ],
   "source": [
    "class PoooledMultinomialBinary(DawidSkene):\n",
    "    def _m_step(self) -> None:\n",
    "        \"\"\"Maximizing log likelihood with a single confusion matrix shared across all workers.\"\"\"\n",
    "\n",
    "        self.rho = self.T.sum(0) / self.n_task\n",
    "\n",
    "        diag_votes = np.einsum(\"tq, tiq -> q\", self.T, self.crowd_matrix)\n",
    "        denom = np.einsum(\"tq, tij -> q\", self.T, self.crowd_matrix)\n",
    "        \n",
    "\n",
    "        self.alpha = (diag_votes/denom).mean()\n",
    "        self.off_diag_alpha = (1 - self.alpha) / (self.n_classes - 1)\n",
    "        # equivalent to:\n",
    "        # sum_y_nj = np.sum(self.crowd_matrix, axis=1)\n",
    "        # numerator = np.dot(self.T.T, sum_y_nj)\n",
    "        # denom = np.sum(numerator,axis=1, keepdims=True)\n",
    "        # alpha =  np.diag(numerator/denom).mean()\n",
    "\n",
    "\n",
    "    def _e_step(self):\n",
    "        T = np.zeros((self.n_task, self.n_classes))\n",
    "        \n",
    "        for i in range(self.n_task):\n",
    "            for j in range(self.n_classes):\n",
    "                worker_labels = self.crowd_matrix[i]\n",
    "\n",
    "                diag_contrib = np.prod(np.power(self.alpha, worker_labels[:, j]))\n",
    "                mask = np.ones(self.n_classes, dtype=bool)\n",
    "                mask[j] = False\n",
    "                off_diag_contrib = np.prod(np.power(self.off_diag_alpha, worker_labels[:, mask]))\n",
    "                \n",
    "                T[i,j] = diag_contrib * off_diag_contrib * self.rho[j]\n",
    "\n",
    "        self.denom_e_step = T.sum(1, keepdims=True)\n",
    "        self.T = np.where(self.denom_e_step > 0, T / self.denom_e_step, T)\n",
    "\n",
    "\n",
    "pmb = PoooledMultinomialBinary(votes, N_WORKERS, N_CLASSES)\n",
    "\n",
    "pmb.run(maxiter=100)\n",
    "pmb.get_answers()\n",
    "\n"
   ]
  },
  {
   "cell_type": "code",
   "execution_count": 43,
   "metadata": {},
   "outputs": [
    {
     "name": "stderr",
     "output_type": "stream",
     "text": [
      "\u001b[32m2025-03-27 15:19:02.051\u001b[0m | \u001b[34m\u001b[1mDEBUG   \u001b[0m | \u001b[36mpeerannot.models.aggregation.DS\u001b[0m:\u001b[36minit_crowd_matrix\u001b[0m:\u001b[36m105\u001b[0m - \u001b[34m\u001b[1mDense crowd matrix  5904\u001b[0m\n",
      "\u001b[32m2025-03-27 15:19:02.052\u001b[0m | \u001b[34m\u001b[1mDEBUG   \u001b[0m | \u001b[36mpeerannot.models.aggregation.DS\u001b[0m:\u001b[36m__init__\u001b[0m:\u001b[36m83\u001b[0m - \u001b[34m\u001b[1mDense Crowd matrix5904\u001b[0m\n",
      "\u001b[32m2025-03-27 15:19:02.053\u001b[0m | \u001b[34m\u001b[1mDEBUG   \u001b[0m | \u001b[36mpeerannot.models.aggregation.DS\u001b[0m:\u001b[36minit_T\u001b[0m:\u001b[36m112\u001b[0m - \u001b[34m\u001b[1mSize of T before calc: 1568\u001b[0m\n",
      "\u001b[32m2025-03-27 15:19:02.053\u001b[0m | \u001b[34m\u001b[1mDEBUG   \u001b[0m | \u001b[36mpeerannot.models.aggregation.DS\u001b[0m:\u001b[36minit_T\u001b[0m:\u001b[36m116\u001b[0m - \u001b[34m\u001b[1mSize of T: 1568\u001b[0m\n",
      "Finished:  51%|█████     | 51/100 [00:00<00:00, 2348.90it/s]"
     ]
    },
    {
     "name": "stdout",
     "output_type": "stream",
     "text": [
      "0.5611882716049382\n",
      "0.5083423727791125\n",
      "0.4857513922405727\n",
      "0.47450574356963304\n",
      "0.46852854496738505\n",
      "0.4652348418003532\n",
      "0.46337661016830217\n",
      "0.4623093183490329\n",
      "0.461686761844257\n",
      "0.46131824483927375\n",
      "0.4610968282507372\n",
      "0.4609616791351889\n",
      "0.46087775732595304\n",
      "0.4608246436685348\n",
      "0.4607903051851706\n",
      "0.4607675721839727\n",
      "0.4607521252123096\n",
      "0.46074133245332877\n",
      "0.46073357136169235\n",
      "0.4607278289080042\n",
      "0.46072346375104534\n",
      "0.460720063449222\n",
      "0.46071735797961616\n",
      "0.4607151669164742\n",
      "0.4607133669001838\n",
      "0.4607118714342609\n",
      "0.4607106182280615\n",
      "0.4607095611906515\n",
      "0.46070866531135746\n",
      "0.4607079033443758\n",
      "0.4607072536291802\n",
      "0.4607066986318864\n",
      "0.46070622394863237\n",
      "0.46070581760842294\n",
      "0.4607054695727811\n",
      "0.46070517136691447\n",
      "0.46070491580053463\n",
      "0.46070469675120296\n",
      "0.4607045089924127\n",
      "0.46070434805454474\n",
      "0.4607042101106432\n",
      "0.46070409188141576\n",
      "0.4607039905554686\n",
      "0.46070390372186143\n",
      "0.46070382931278125\n",
      "0.4607037655546413\n",
      "0.46070371092625845\n",
      "0.46070366412302427\n",
      "0.4607036240261784\n",
      "0.4607035896764365\n",
      "0.460703560251351\n"
     ]
    },
    {
     "name": "stderr",
     "output_type": "stream",
     "text": [
      "\n"
     ]
    },
    {
     "data": {
      "text/plain": [
       "array([2, 2, 7, 1, 4, 0, 3, 4, 7, 1, 0, 3, 7, 3, 4, 7, 4, 7, 3, 7])"
      ]
     },
     "execution_count": 43,
     "metadata": {},
     "output_type": "execute_result"
    }
   ],
   "source": [
    "class PoooledMultinomialBinary(DawidSkene):\n",
    "    def _m_step(self) -> None:\n",
    "        \"\"\"Maximizing log likelihood with a single confusion matrix shared across all workers.\"\"\"\n",
    "\n",
    "        self.rho = self.T.sum(0) / self.n_task\n",
    "\n",
    "        diag_votes = np.einsum(\"tq, tiq -> q\", self.T, self.crowd_matrix)\n",
    "\n",
    "        denom = np.einsum(\"tq, tij -> q\", self.T, self.crowd_matrix)\n",
    "\n",
    "        self.alpha = (diag_votes/np.where(denom > 0, denom, 1e-9)).mean()\n",
    "        self.off_diag_alpha = (1 - self.alpha) / (self.n_classes - 1)\n",
    "        \n",
    "    def _e_step(self):\n",
    "        \"\"\"Expectation step: estimate probability of true labels given current parameters.\"\"\"\n",
    "\n",
    "        T = np.zeros((self.n_task, self.n_classes))\n",
    "\n",
    "        for i in range(self.n_task):\n",
    "            worker_labels = self.crowd_matrix[i].sum(0)\n",
    "            for j in range(self.n_classes):\n",
    "                n_ij = worker_labels[j]  # Number of annotators labeling task i as class j\n",
    "                n_i = worker_labels.sum()  # Total number of annotations for task i\n",
    "\n",
    "                diag_contrib = self.alpha ** n_ij\n",
    "                off_diag_contrib = self.off_diag_alpha ** (n_i - n_ij)\n",
    "\n",
    "                T[i, j] = diag_contrib * off_diag_contrib * self.rho[j]\n",
    "        self.denom_e_step = T.sum(1, keepdims=True)\n",
    "        self.T = np.where(self.denom_e_step > 0, T / self.denom_e_step, T)\n",
    "\n",
    "pmb = PoooledMultinomialBinary(votes, N_WORKERS, N_CLASSES)\n",
    "pmb.run(maxiter=100)\n",
    "pmb.get_answers()\n"
   ]
  }
 ],
 "metadata": {
  "kernelspec": {
   "display_name": ".venv",
   "language": "python",
   "name": "python3"
  },
  "language_info": {
   "codemirror_mode": {
    "name": "ipython",
    "version": 3
   },
   "file_extension": ".py",
   "mimetype": "text/x-python",
   "name": "python",
   "nbconvert_exporter": "python",
   "pygments_lexer": "ipython3",
   "version": "3.12.3"
  }
 },
 "nbformat": 4,
 "nbformat_minor": 2
}
