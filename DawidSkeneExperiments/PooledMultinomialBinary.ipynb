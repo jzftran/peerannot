{
 "cells": [
  {
   "cell_type": "code",
   "execution_count": 2,
   "metadata": {},
   "outputs": [],
   "source": [
    "\n",
    "import numpy as np\n",
    "\n",
    "# load data\n",
    "from toy_data import N_CLASSES, N_WORKERS, votes\n",
    "\n",
    "from peerannot.models import DawidSkene\n",
    "\n"
   ]
  },
  {
   "cell_type": "code",
   "execution_count": null,
   "metadata": {},
   "outputs": [],
   "source": [
    "\n",
    "class PoooledMultinomialBinary(DawidSkene):\n",
    "\n",
    "\n",
    "    def _init_T(self)->None:\n",
    "        # T shape n_tasks, n classes\n",
    "        self.n_il = np.sum(self.crowd_matrix, axis=1)  # n_tasks, n_classes: sum of votes given by each worker\n",
    "\n",
    "        n_i = np.sum(self.n_il, axis=0) # how many votes for each class\n",
    "\n",
    "        self.total_votes = np.sum(self.n_il)\n",
    "\n",
    "        self.T = self.n_il/n_i\n",
    "\n",
    "    def _m_step(self) -> None:\n",
    "        \"\"\"Maximizing log likelihood with a single confusion matrix shared across all workers.\"\"\"\n",
    "\n",
    "        self.rho = self.T.sum(0) / self.n_task\n",
    "\n",
    "        # trace(T.T @ crowd_matrix)\n",
    "        sum_diag_votes = np.einsum(\"tq, tiq ->\", self.T, self.crowd_matrix)\n",
    "        self.alpha = sum_diag_votes/self.total_votes\n",
    "\n",
    "    def _e_step(self):\n",
    "        T = np.zeros((self.n_task, self.n_classes))\n",
    "\n",
    "        for i in range(self.n_task):\n",
    "            n_i = self.n_il[i].sum() # total numer of annotators of task i\n",
    "            for l in range(self.n_classes):\n",
    "                n_il = self.n_il[i,l] # numer of annotators of task i voting for label l\n",
    "                diag_contrib = np.power(self.alpha, n_il)\n",
    "                off_diag_contrib = np.power((1 - self.alpha)/\\\n",
    "                                            (self.n_classes -1), n_i - n_il )\n",
    "\n",
    "                T[i, l] = diag_contrib * off_diag_contrib * self.rho[l]\n",
    "\n",
    "        self.denom_e_step = T.sum(axis=1, keepdims=True)\n",
    "        self.T = np.where(self.denom_e_step > 0, T / self.denom_e_step, T)\n",
    "\n",
    "\n",
    "pmb = PoooledMultinomialBinary(votes, N_WORKERS, N_CLASSES)\n",
    "\n",
    "pmb.run(maxiter=400)\n",
    "pmb.get_answers()\n",
    "\n"
   ]
  },
  {
   "cell_type": "code",
   "execution_count": null,
   "metadata": {},
   "outputs": [
    {
     "name": "stderr",
     "output_type": "stream",
     "text": [
      "\u001b[32m2025-04-03 11:57:20.660\u001b[0m | \u001b[34m\u001b[1mDEBUG   \u001b[0m | \u001b[36mpeerannot.models.aggregation.DS\u001b[0m:\u001b[36m_init_crowd_matrix\u001b[0m:\u001b[36m106\u001b[0m - \u001b[34m\u001b[1mDense crowd matrix  5904\u001b[0m\n",
      "\u001b[32m2025-04-03 11:57:20.661\u001b[0m | \u001b[34m\u001b[1mDEBUG   \u001b[0m | \u001b[36mpeerannot.models.aggregation.DS\u001b[0m:\u001b[36m__init__\u001b[0m:\u001b[36m84\u001b[0m - \u001b[34m\u001b[1mDense Crowd matrix5904\u001b[0m\n"
     ]
    },
    {
     "data": {
      "application/vnd.jupyter.widget-view+json": {
       "model_id": "44bdc5edeb7d46c88d2413f927d66c3f",
       "version_major": 2,
       "version_minor": 0
      },
      "text/plain": [
       "Dawid and Skene:   0%|          | 0/400 [00:00<?, ?it/s]"
      ]
     },
     "metadata": {},
     "output_type": "display_data"
    },
    {
     "data": {
      "text/plain": [
       "array([2, 2, 8, 1, 4, 0, 3, 3, 7, 1, 0, 3, 7, 3, 4, 7, 4, 7, 3, 7])"
      ]
     },
     "execution_count": 5,
     "metadata": {},
     "output_type": "execute_result"
    }
   ],
   "source": [
    "class VectorizedPoooledMultinomialBinary(PoooledMultinomialBinary):\n",
    "    def _e_step(self):\n",
    "        n_i = self.n_il.sum(axis=1, keepdims=True)\n",
    "\n",
    "        diag_contrib = self.alpha ** self.n_il\n",
    "\n",
    "        off_diag_factor = (1 - self.alpha) / (self.n_classes - 1)\n",
    "        off_diag_contrib = off_diag_factor ** (n_i - self.n_il)\n",
    "\n",
    "        T = diag_contrib * off_diag_contrib * self.rho[np.newaxis, :]\n",
    "\n",
    "        self.denom_e_step = T.sum(axis=1, keepdims=True)\n",
    "        self.T = np.where(self.denom_e_step > 0, T / self.denom_e_step, T)\n",
    "\n",
    "\n",
    "pmb = VectorizedPoooledMultinomialBinary(votes, N_WORKERS, N_CLASSES)\n",
    "\n",
    "pmb.run(maxiter=400)\n",
    "pmb.get_answers()"
   ]
  },
  {
   "cell_type": "code",
   "execution_count": null,
   "metadata": {},
   "outputs": [],
   "source": [
    "class PoooledMultinomialBinary(DawidSkene):\n",
    "    def _m_step(self) -> None:\n",
    "        \"\"\"Maximizing log likelihood with a single confusion matrix shared across all workers.\"\"\"\n",
    "\n",
    "        self.rho = self.T.sum(0) / self.n_task\n",
    "\n",
    "        diag_votes = np.einsum(\"tq, tiq ->\", self.T, self.crowd_matrix)\n",
    "\n",
    "        denom = np.einsum(\"tq, tij ->\", self.T, self.crowd_matrix) # constant should be in init\n",
    "        self.alpha = (diag_votes/np.where(denom > 0, denom, 1e-9))\n",
    "        self.off_diag_alpha = (1 - self.alpha) /  (self.n_classes - 1)\n",
    "\n",
    "    def _e_step(self):\n",
    "        \"\"\"Expectation step: estimate probability of true labels given current parameters.\"\"\"\n",
    "\n",
    "        T = np.zeros((self.n_task, self.n_classes))\n",
    "\n",
    "        for i in range(self.n_task):\n",
    "            worker_labels = np.sum(self.crowd_matrix[i], axis = 0 )\n",
    "            for l in range(self.n_classes):\n",
    "                n_il = worker_labels[l]  # Number of annotators labeling task i as class l\n",
    "                n_i = worker_labels.sum()  # Total number of annotations for task i\n",
    "\n",
    "                diag_contrib = self.alpha ** n_il\n",
    "                off_diag_contrib = self.off_diag_alpha ** (n_i - n_il)\n",
    "\n",
    "                T[i, l] = diag_contrib * off_diag_contrib * self.rho[l]\n",
    "        self.denom_e_step = T.sum(1, keepdims=True)\n",
    "\n",
    "        self.T = np.where(self.denom_e_step > 0, T / self.denom_e_step, T)\n",
    "\n",
    "pmb = PoooledMultinomialBinary(votes, N_WORKERS, N_CLASSES)\n",
    "\n",
    "pmb._init_T()\n",
    "pmb.T\n",
    "# pmb.run(maxiter=200)\n",
    "# pmb.get_answers()\n"
   ]
  }
 ],
 "metadata": {
  "kernelspec": {
   "display_name": ".venv",
   "language": "python",
   "name": "python3"
  },
  "language_info": {
   "codemirror_mode": {
    "name": "ipython",
    "version": 3
   },
   "file_extension": ".py",
   "mimetype": "text/x-python",
   "name": "python",
   "nbconvert_exporter": "python",
   "pygments_lexer": "ipython3",
   "version": "3.12.3"
  }
 },
 "nbformat": 4,
 "nbformat_minor": 2
}
