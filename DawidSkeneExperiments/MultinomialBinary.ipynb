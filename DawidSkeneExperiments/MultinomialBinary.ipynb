{
 "cells": [
  {
   "cell_type": "code",
   "execution_count": null,
   "metadata": {},
   "outputs": [
    {
     "name": "stderr",
     "output_type": "stream",
     "text": [
      "/home/jozef/Desktop/repos/peerannot/.venv/lib/python3.12/site-packages/tqdm/auto.py:21: TqdmWarning: IProgress not found. Please update jupyter and ipywidgets. See https://ipywidgets.readthedocs.io/en/stable/user_install.html\n",
      "  from .autonotebook import tqdm as notebook_tqdm\n"
     ]
    }
   ],
   "source": [
    "\n",
    "import numpy as np\n",
    "\n",
    "# load data\n",
    "from toy_data import N_CLASSES, N_WORKERS, votes\n",
    "\n",
    "from peerannot.models import DawidSkene\n"
   ]
  },
  {
   "cell_type": "code",
   "execution_count": 198,
   "metadata": {},
   "outputs": [],
   "source": [
    "class MultinomialBinary(DawidSkene):\n",
    "    def __init__(self, answers, n_workers, n_classes, *, path_remove=None):\n",
    "        super().__init__(\n",
    "            answers, n_workers, n_classes, path_remove=path_remove,\n",
    "        )\n",
    "\n",
    "    def _m_step(self) -> None:\n",
    "        \"\"\"Maximizing log likelihood with only diagonal elements of pi.\"\"\"\n",
    "        rho = self.T.sum(0) / self.n_task\n",
    "\n",
    "        pi = np.zeros(self.n_workers)\n",
    "        for j in range(self.n_workers):\n",
    "            alpha = (self.T * self.crowd_matrix[:, j, :]).sum() / self.n_task\n",
    "            pi[j] = alpha\n",
    "\n",
    "        off_diag_alpha = (np.ones_like(pi) - pi) / (self.n_classes - 1)\n",
    "        self.rho, self.pi, self.off_diag_alpha = rho, pi, off_diag_alpha\n",
    "\n",
    "    def _e_step(self) -> None:\n",
    "        \"\"\"Estimate indicator variables (see eq. 2.5 Dawid and Skene 1979)\n",
    "\n",
    "        Returns:\n",
    "            T: New estimate for indicator variables (n_task, n_worker)\n",
    "            denom: value used to compute likelihood easily\n",
    "        \"\"\"\n",
    "        T = np.zeros((self.n_task, self.n_classes))\n",
    "        for i in range(self.n_task):\n",
    "            for j in range(self.n_classes):\n",
    "\n",
    "                diag_contrib = np.prod(np.power(\n",
    "                    self.pi, self.crowd_matrix[i, :, j],\n",
    "                ) ) # shape (n_workers,)\n",
    "\n",
    "                mask = np.ones(self.n_classes, dtype=bool)\n",
    "                mask[j] = False\n",
    "                off_diag_labels = self.crowd_matrix[i, :, mask]\n",
    "\n",
    "                off_diag_contrib = np.prod(\n",
    "                    np.power(self.off_diag_alpha,\n",
    "                    off_diag_labels),\n",
    "                )\n",
    "\n",
    "                T[i,j] = np.prod(diag_contrib * off_diag_contrib)*self.rho[j]\n",
    "\n",
    "        self.denom_e_step = T.sum(1, keepdims=True)\n",
    "        self.T = np.where(self.denom_e_step > 0, T / self.denom_e_step, T)\n",
    "\n"
   ]
  },
  {
   "cell_type": "code",
   "execution_count": 199,
   "metadata": {},
   "outputs": [
    {
     "name": "stderr",
     "output_type": "stream",
     "text": [
      "\u001b[32m2025-03-27 16:28:14.069\u001b[0m | \u001b[34m\u001b[1mDEBUG   \u001b[0m | \u001b[36mpeerannot.models.aggregation.DS\u001b[0m:\u001b[36minit_crowd_matrix\u001b[0m:\u001b[36m105\u001b[0m - \u001b[34m\u001b[1mDense crowd matrix  5904\u001b[0m\n",
      "\u001b[32m2025-03-27 16:28:14.070\u001b[0m | \u001b[34m\u001b[1mDEBUG   \u001b[0m | \u001b[36mpeerannot.models.aggregation.DS\u001b[0m:\u001b[36m__init__\u001b[0m:\u001b[36m83\u001b[0m - \u001b[34m\u001b[1mDense Crowd matrix5904\u001b[0m\n",
      "\u001b[32m2025-03-27 16:28:14.070\u001b[0m | \u001b[34m\u001b[1mDEBUG   \u001b[0m | \u001b[36mpeerannot.models.aggregation.DS\u001b[0m:\u001b[36minit_T\u001b[0m:\u001b[36m112\u001b[0m - \u001b[34m\u001b[1mSize of T before calc: 1568\u001b[0m\n",
      "\u001b[32m2025-03-27 16:28:14.071\u001b[0m | \u001b[34m\u001b[1mDEBUG   \u001b[0m | \u001b[36mpeerannot.models.aggregation.DS\u001b[0m:\u001b[36minit_T\u001b[0m:\u001b[36m116\u001b[0m - \u001b[34m\u001b[1mSize of T: 1568\u001b[0m\n",
      "Finished:   4%|▍         | 2/50 [00:00<00:00, 252.84it/s]\n"
     ]
    },
    {
     "data": {
      "text/plain": [
       "array([2, 2, 8, 1, 4, 0, 3, 4, 7, 1, 0, 3, 1, 3, 4, 7, 4, 7, 3, 7])"
      ]
     },
     "execution_count": 199,
     "metadata": {},
     "output_type": "execute_result"
    }
   ],
   "source": [
    "mb = MultinomialBinary(votes, N_WORKERS, N_CLASSES)\n",
    "mb.run(200)\n",
    "mb.get_answers()\n"
   ]
  },
  {
   "cell_type": "code",
   "execution_count": 200,
   "metadata": {},
   "outputs": [],
   "source": [
    "# dirty implementation just for comparison\n",
    "class MultinomialBinary(DawidSkene):\n",
    "    def __init__(self, answers, n_workers, n_classes, *, path_remove=None):\n",
    "        super().__init__(\n",
    "            answers, n_workers, n_classes, path_remove=path_remove,\n",
    "            )\n",
    "    def _m_step(self) -> None:\n",
    "        \"\"\"Maximizing log likelihood with full confusion matrices (diagonal + off-diagonal).\"\"\"\n",
    "\n",
    "        # Update rho (class prior probabilities)\n",
    "        self.rho = self.T.sum(0) / self.n_task\n",
    "\n",
    "        # Initialize pi as a (n_workers, n_classes, n_classes) tensor\n",
    "        pi = np.zeros((self.n_workers, self.n_classes, self.n_classes))\n",
    "\n",
    "        for j in range(self.n_workers):\n",
    "            # Compute alpha for worker j (per-class reliability)\n",
    "            alpha = ((self.T * self.crowd_matrix[:, j, :]).sum() )/ self.n_task\n",
    "            # Initialize the full confusion matrix for worker j\n",
    "            pij = np.full((self.n_classes, self.n_classes), (1 - alpha) / (self.n_classes - 1))\n",
    "\n",
    "            # Set the diagonal elements (worker accuracy per class)\n",
    "            np.fill_diagonal(pij, alpha)\n",
    "\n",
    "            pi[j] = pij\n",
    "\n",
    "        # Store off-diagonal alpha for reference\n",
    "        self.off_diag_alpha = (1 - pi) / (self.n_classes - 1)\n",
    "        self.pi = pi"
   ]
  },
  {
   "cell_type": "code",
   "execution_count": 5,
   "metadata": {},
   "outputs": [
    {
     "name": "stderr",
     "output_type": "stream",
     "text": [
      "\u001b[32m2025-03-27 15:05:00.754\u001b[0m | \u001b[34m\u001b[1mDEBUG   \u001b[0m | \u001b[36mpeerannot.models.aggregation.DS\u001b[0m:\u001b[36minit_crowd_matrix\u001b[0m:\u001b[36m105\u001b[0m - \u001b[34m\u001b[1mDense crowd matrix  5904\u001b[0m\n",
      "\u001b[32m2025-03-27 15:05:00.755\u001b[0m | \u001b[34m\u001b[1mDEBUG   \u001b[0m | \u001b[36mpeerannot.models.aggregation.DS\u001b[0m:\u001b[36m__init__\u001b[0m:\u001b[36m83\u001b[0m - \u001b[34m\u001b[1mDense Crowd matrix5904\u001b[0m\n",
      "\u001b[32m2025-03-27 15:05:00.756\u001b[0m | \u001b[34m\u001b[1mDEBUG   \u001b[0m | \u001b[36mpeerannot.models.aggregation.DS\u001b[0m:\u001b[36minit_T\u001b[0m:\u001b[36m112\u001b[0m - \u001b[34m\u001b[1mSize of T before calc: 1568\u001b[0m\n",
      "\u001b[32m2025-03-27 15:05:00.756\u001b[0m | \u001b[34m\u001b[1mDEBUG   \u001b[0m | \u001b[36mpeerannot.models.aggregation.DS\u001b[0m:\u001b[36minit_T\u001b[0m:\u001b[36m116\u001b[0m - \u001b[34m\u001b[1mSize of T: 1568\u001b[0m\n",
      "Finished:   4%|▍         | 2/50 [00:00<00:00, 219.74it/s]\n"
     ]
    },
    {
     "data": {
      "text/plain": [
       "array([2, 2, 8, 1, 4, 0, 3, 4, 7, 1, 0, 3, 1, 3, 4, 7, 4, 7, 3, 7])"
      ]
     },
     "execution_count": 5,
     "metadata": {},
     "output_type": "execute_result"
    }
   ],
   "source": [
    "mb = MultinomialBinary(votes, N_WORKERS, N_CLASSES)\n",
    "mb.run(100)\n",
    "mb.get_answers()"
   ]
  }
 ],
 "metadata": {
  "kernelspec": {
   "display_name": ".venv",
   "language": "python",
   "name": "python3"
  },
  "language_info": {
   "codemirror_mode": {
    "name": "ipython",
    "version": 3
   },
   "file_extension": ".py",
   "mimetype": "text/x-python",
   "name": "python",
   "nbconvert_exporter": "python",
   "pygments_lexer": "ipython3",
   "version": "3.12.3"
  }
 },
 "nbformat": 4,
 "nbformat_minor": 2
}
