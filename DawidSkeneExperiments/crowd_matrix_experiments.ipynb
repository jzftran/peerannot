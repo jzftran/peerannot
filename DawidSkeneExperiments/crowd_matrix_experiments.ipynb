{
 "cells": [
  {
   "cell_type": "markdown",
   "metadata": {},
   "source": [
    "Generates a large dataset for experiments using `dask`"
   ]
  },
  {
   "cell_type": "code",
   "execution_count": null,
   "metadata": {},
   "outputs": [],
   "source": [
    "%pip install h5py dask"
   ]
  },
  {
   "cell_type": "code",
   "execution_count": null,
   "metadata": {},
   "outputs": [
    {
     "name": "stderr",
     "output_type": "stream",
     "text": [
      "Processing dim1: 100%|██████████| 10/10 [02:17<00:00, 13.72s/slice]\n"
     ]
    }
   ],
   "source": [
    "# generate dataset ~100GB\n",
    "import h5py\n",
    "import numpy as np\n",
    "from tqdm import tqdm\n",
    "\n",
    "dim1 = int(1e1)    \n",
    "dim2 = int(1e6)    \n",
    "dim3 = int(1e4)    \n",
    "batch_size = 10000  \n",
    "\n",
    "with h5py.File(\"mytestfile.hdf5\", \"w\") as f:\n",
    "    dset = f.create_dataset(\"mydataset\", (dim1, dim2, dim3), dtype=bool)\n",
    "    \n",
    "    # Outer loop with progress bar\n",
    "    for i in tqdm(range(dim1), desc=\"Processing dim1\", unit=\"slice\"):\n",
    "        # Generate all random indices for this batch\n",
    "        rand_indices = np.random.randint(0, dim3, size=dim2)\n",
    "        \n",
    "        # Inner batch processing with progress bar\n",
    "        for j_start in tqdm(range(0, dim2, batch_size), \n",
    "                          desc=f\"dim1={i}\", \n",
    "                          unit=\"batch\",\n",
    "                          leave=False): \n",
    "            j_end = min(j_start + batch_size, dim2)\n",
    "            batch_indices = rand_indices[j_start:j_end]\n",
    "            \n",
    "            # Create boolean array for this batch\n",
    "            batch = np.zeros((j_end-j_start, dim3), dtype=bool)\n",
    "            batch[np.arange(j_end-j_start), batch_indices] = True\n",
    "            \n",
    "            # Write the batch\n",
    "            dset[i, j_start:j_end] = batch"
   ]
  },
  {
   "cell_type": "code",
   "execution_count": 5,
   "metadata": {},
   "outputs": [],
   "source": [
    "import dask.array as da\n",
    "import h5py\n",
    "with h5py.File(\"mytestfile.hdf5\", \"r\") as f:\n",
    "    dset = f['mydataset']\n",
    "\n",
    "    test_crowd_matrix = da.from_array(dset, chunks=(10,10_000,10_000))\n",
    "\n",
    "\n",
    "    T = test_crowd_matrix.sum(axis=1)\n",
    "\n",
    "    tdim = T.sum(1, keepdims=True)\n",
    "    T = da.where(tdim > 0, T / tdim, 0).compute()\n"
   ]
  },
  {
   "cell_type": "code",
   "execution_count": null,
   "metadata": {},
   "outputs": [],
   "source": [
    "# test_crowd_matrix sparsity\n",
    "import h5py\n",
    "import dask.array as da\n",
    "\n",
    "with h5py.File(\"mytestfile.hdf5\", \"r\") as f:\n",
    "    dset = f['mydataset']\n",
    "\n",
    "    test_crowd_matrix = da.from_array(dset, chunks=(10,1_000,1_000))\n",
    "\n",
    "\n",
    "\n",
    "\n",
    "    sparsity = 1-(da.count_nonzero(test_crowd_matrix)/ test_crowd_matrix.size).compute()\n",
    "    print(sparsity)"
   ]
  }
 ],
 "metadata": {
  "kernelspec": {
   "display_name": ".venv",
   "language": "python",
   "name": "python3"
  },
  "language_info": {
   "codemirror_mode": {
    "name": "ipython",
    "version": 3
   },
   "file_extension": ".py",
   "mimetype": "text/x-python",
   "name": "python",
   "nbconvert_exporter": "python",
   "pygments_lexer": "ipython3",
   "version": "3.12.3"
  }
 },
 "nbformat": 4,
 "nbformat_minor": 2
}
