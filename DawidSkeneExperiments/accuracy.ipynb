{
 "cells": [
  {
   "cell_type": "code",
   "execution_count": 1,
   "id": "aff53b2b",
   "metadata": {},
   "outputs": [],
   "source": [
    "import numpy as np\n",
    "from votes_30 import gt, votes\n",
    "from votes_330 import votes as votes_330\n",
    "from peerannot.models.aggregation.dawid_skene import DawidSkene\n",
    "from peerannot.models.aggregation.dawid_skene_online import DawidSkeneOnline, batch_generator\n"
   ]
  },
  {
   "cell_type": "code",
   "execution_count": 2,
   "id": "2a4c9b0b",
   "metadata": {},
   "outputs": [],
   "source": [
    "\n",
    "def accuracy(preds, truth):\n",
    "    return np.mean(preds == truth)\n",
    "\n",
    "\n",
    "def norm(ground_truth, predictions):\n",
    "    if len(ground_truth) != len(predictions):\n",
    "        raise ValueError(\"Arrays must have the same length.\")\n",
    "    \n",
    "    return np.linalg.norm((ground_truth - predictions))\n",
    "    "
   ]
  },
  {
   "cell_type": "code",
   "execution_count": 26,
   "id": "09d7e2cb",
   "metadata": {},
   "outputs": [
    {
     "name": "stderr",
     "output_type": "stream",
     "text": [
      "\u001b[32m2025-05-26 13:50:16.007\u001b[0m | \u001b[34m\u001b[1mDEBUG   \u001b[0m | \u001b[36mpeerannot.models.aggregation.dawid_skene\u001b[0m:\u001b[36m_init_crowd_matrix\u001b[0m:\u001b[36m109\u001b[0m - \u001b[34m\u001b[1mSize of dense crowd matrix: 2144\u001b[0m\n"
     ]
    },
    {
     "data": {
      "application/vnd.jupyter.widget-view+json": {
       "model_id": "9291125be95b48859039fb8a59977a14",
       "version_major": 2,
       "version_minor": 0
      },
      "text/plain": [
       "DawidSkene:   0%|          | 0/50 [00:00<?, ?it/s]"
      ]
     },
     "metadata": {},
     "output_type": "display_data"
    },
    {
     "name": "stdout",
     "output_type": "stream",
     "text": [
      "Accuracy: 0.50\n",
      "Norm: 10.20\n"
     ]
    }
   ],
   "source": [
    "\n",
    "ds = DawidSkene(votes, n_workers=10, n_classes=10)\n",
    "ds.run(epsilon=0.000001)\n",
    "\n",
    "print(f\"Accuracy: {accuracy(gt, ds.get_answers()):.2f}\")\n",
    "\n",
    "\n",
    "print(f\"Norm: {norm(gt, ds.get_answers()):.2f}\")\n",
    "\n",
    "\n"
   ]
  },
  {
   "cell_type": "code",
   "execution_count": 23,
   "id": "f7cfc0cf",
   "metadata": {},
   "outputs": [
    {
     "name": "stdout",
     "output_type": "stream",
     "text": [
      "Accuracy: 0.60\n",
      "Norm: 9.27\n"
     ]
    }
   ],
   "source": [
    "\n",
    "dso = DawidSkeneOnline(gamma0=1.0, decay=0.6)\n",
    "for batch in batch_generator(votes, batch_size=10):\n",
    "    lls = dso.process_batch(batch)\n",
    "\n",
    "\n",
    "print(f\"Accuracy: {accuracy(gt, dso.get_answers()):.2f}\")\n",
    "\n",
    "\n",
    "print(f\"Norm: {norm(gt, dso.get_answers()):.2f}\")\n",
    "\n",
    "\n"
   ]
  },
  {
   "cell_type": "code",
   "execution_count": 45,
   "id": "4f320679",
   "metadata": {},
   "outputs": [
    {
     "name": "stdout",
     "output_type": "stream",
     "text": [
      "[np.float64(0.0), np.float64(0.0)]\n"
     ]
    }
   ],
   "source": [
    "\n",
    "dso = DawidSkeneOnline(gamma0=1.0, decay=0.6)\n",
    "batches =  batch_generator(votes, batch_size=1)\n",
    "vote_1 = next(batches)\n",
    "lls = dso.process_batch(vote_1)\n",
    "print(lls)"
   ]
  },
  {
   "cell_type": "code",
   "execution_count": 46,
   "id": "0a3425e8",
   "metadata": {},
   "outputs": [
    {
     "data": {
      "text/plain": [
       "array([1])"
      ]
     },
     "execution_count": 46,
     "metadata": {},
     "output_type": "execute_result"
    }
   ],
   "source": [
    "dso.get_answers()"
   ]
  },
  {
   "cell_type": "code",
   "execution_count": null,
   "id": "ff98182f",
   "metadata": {},
   "outputs": [
    {
     "name": "stderr",
     "output_type": "stream",
     "text": [
      "\u001b[32m2025-05-26 14:40:17.003\u001b[0m | \u001b[34m\u001b[1mDEBUG   \u001b[0m | \u001b[36mpeerannot.models.aggregation.dawid_skene\u001b[0m:\u001b[36m_init_crowd_matrix\u001b[0m:\u001b[36m109\u001b[0m - \u001b[34m\u001b[1mSize of dense crowd matrix: 244\u001b[0m\n"
     ]
    },
    {
     "data": {
      "application/vnd.jupyter.widget-view+json": {
       "model_id": "dc0625ab994846c7b2c63f473f733aa9",
       "version_major": 2,
       "version_minor": 0
      },
      "text/plain": [
       "DawidSkene:   0%|          | 0/50 [00:00<?, ?it/s]"
      ]
     },
     "metadata": {},
     "output_type": "display_data"
    },
    {
     "data": {
      "text/plain": [
       "array([1])"
      ]
     },
     "execution_count": 44,
     "metadata": {},
     "output_type": "execute_result"
    }
   ],
   "source": [
    "ds = DawidSkene(vote_1, n_workers=10, n_classes=10)\n",
    "\n",
    "ds.run()\n",
    "ds.get_answers()\n",
    "\n"
   ]
  }
 ],
 "metadata": {
  "kernelspec": {
   "display_name": ".venv",
   "language": "python",
   "name": "python3"
  },
  "language_info": {
   "codemirror_mode": {
    "name": "ipython",
    "version": 3
   },
   "file_extension": ".py",
   "mimetype": "text/x-python",
   "name": "python",
   "nbconvert_exporter": "python",
   "pygments_lexer": "ipython3",
   "version": "3.12.3"
  }
 },
 "nbformat": 4,
 "nbformat_minor": 5
}
