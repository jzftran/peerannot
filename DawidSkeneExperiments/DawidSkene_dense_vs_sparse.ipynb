{
 "cells": [
  {
   "cell_type": "code",
   "execution_count": 2,
   "metadata": {},
   "outputs": [
    {
     "name": "stdout",
     "output_type": "stream",
     "text": [
      "The memory_profiler extension is already loaded. To reload it, use:\n",
      "  %reload_ext memory_profiler\n"
     ]
    },
    {
     "name": "stderr",
     "output_type": "stream",
     "text": [
      "\u001b[32m2025-03-19 11:39:10.865\u001b[0m | \u001b[1mINFO    \u001b[0m | \u001b[36mpeerannot.models.aggregation.DS\u001b[0m:\u001b[36minit_crowd_matrix\u001b[0m:\u001b[36m127\u001b[0m - \u001b[1mDense crowd matrix  5904\u001b[0m\n",
      "\u001b[32m2025-03-19 11:39:10.866\u001b[0m | \u001b[1mINFO    \u001b[0m | \u001b[36mpeerannot.models.aggregation.DS\u001b[0m:\u001b[36m__init__\u001b[0m:\u001b[36m92\u001b[0m - \u001b[1mDense Crowd matrix5904\u001b[0m\n",
      "\u001b[32m2025-03-19 11:39:10.868\u001b[0m | \u001b[1mINFO    \u001b[0m | \u001b[36mpeerannot.models.aggregation.DS\u001b[0m:\u001b[36minit_T\u001b[0m:\u001b[36m134\u001b[0m - \u001b[1mSize of T before calc: 1568\u001b[0m\n",
      "\u001b[32m2025-03-19 11:39:10.870\u001b[0m | \u001b[1mINFO    \u001b[0m | \u001b[36mpeerannot.models.aggregation.DS\u001b[0m:\u001b[36minit_T\u001b[0m:\u001b[36m138\u001b[0m - \u001b[1mSize of T: 1568\u001b[0m\n"
     ]
    },
    {
     "name": "stdout",
     "output_type": "stream",
     "text": [
      "peak memory: 567.32 MiB, increment: 0.00 MiB\n"
     ]
    },
    {
     "name": "stderr",
     "output_type": "stream",
     "text": [
      "Finished:  70%|███████   | 35/50 [00:00<00:00, 126.64it/s]       "
     ]
    },
    {
     "name": "stdout",
     "output_type": "stream",
     "text": [
      "\n"
     ]
    },
    {
     "name": "stderr",
     "output_type": "stream",
     "text": [
      "\n"
     ]
    },
    {
     "name": "stdout",
     "output_type": "stream",
     "text": [
      "Filename: /home/jozef/Desktop/repos/peerannot/.venv/lib/python3.12/site-packages/pydantic/_internal/_validate_call.py\n",
      "\n",
      "Line #    Mem usage    Increment  Occurrences   Line Contents\n",
      "=============================================================\n",
      "    36    567.3 MiB    567.3 MiB           1           @functools.wraps(wrapped)\n",
      "    37                                                 def wrapper_function(*args, **kwargs):\n",
      "    38    567.6 MiB      0.2 MiB           1               return wrapper(*args, **kwargs)"
     ]
    }
   ],
   "source": [
    "%load_ext memory_profiler\n",
    "from peerannot.models import DawidSkene\n",
    "from toy_data import votes, N_CLASSES, N_WORKERS\n",
    "\n",
    "%memit # Backround memory usage\n",
    "\n",
    "ds_dense = DawidSkene(answers=votes, n_workers=N_WORKERS, n_classes=N_CLASSES, sparse=False)\n",
    "%mprun -f DawidSkene.run ds_dense.run()\n",
    "\n"
   ]
  },
  {
   "cell_type": "code",
   "execution_count": null,
   "metadata": {},
   "outputs": [
    {
     "ename": "",
     "evalue": "",
     "output_type": "error",
     "traceback": [
      "\u001b[1;31mThe Kernel crashed while executing code in the current cell or a previous cell. \n",
      "\u001b[1;31mPlease review the code in the cell(s) to identify a possible cause of the failure. \n",
      "\u001b[1;31mClick <a href='https://aka.ms/vscodeJupyterKernelCrash'>here</a> for more info. \n",
      "\u001b[1;31mView Jupyter <a href='command:jupyter.viewOutput'>log</a> for further details."
     ]
    }
   ],
   "source": [
    "import os\n",
    "os._exit(00)"
   ]
  },
  {
   "cell_type": "code",
   "execution_count": 1,
   "metadata": {},
   "outputs": [
    {
     "name": "stderr",
     "output_type": "stream",
     "text": [
      "/home/jozef/Desktop/repos/peerannot/.venv/lib/python3.12/site-packages/tqdm/auto.py:21: TqdmWarning: IProgress not found. Please update jupyter and ipywidgets. See https://ipywidgets.readthedocs.io/en/stable/user_install.html\n",
      "  from .autonotebook import tqdm as notebook_tqdm\n"
     ]
    },
    {
     "name": "stdout",
     "output_type": "stream",
     "text": [
      "peak memory: 582.00 MiB, increment: 0.00 MiB\n"
     ]
    },
    {
     "name": "stderr",
     "output_type": "stream",
     "text": [
      "\u001b[32m2025-03-19 11:39:23.134\u001b[0m | \u001b[1mINFO    \u001b[0m | \u001b[36mpeerannot.models.aggregation.DS\u001b[0m:\u001b[36minit_crowd_matrix\u001b[0m:\u001b[36m127\u001b[0m - \u001b[1mDense crowd matrix  1953960144\u001b[0m\n",
      "\u001b[32m2025-03-19 11:39:23.135\u001b[0m | \u001b[1mINFO    \u001b[0m | \u001b[36mpeerannot.models.aggregation.DS\u001b[0m:\u001b[36m__init__\u001b[0m:\u001b[36m92\u001b[0m - \u001b[1mDense Crowd matrix1953960144\u001b[0m\n",
      "\u001b[32m2025-03-19 11:39:23.814\u001b[0m | \u001b[1mINFO    \u001b[0m | \u001b[36mpeerannot.models.aggregation.DS\u001b[0m:\u001b[36minit_T\u001b[0m:\u001b[36m134\u001b[0m - \u001b[1mSize of T before calc: 760128\u001b[0m\n",
      "\u001b[32m2025-03-19 11:39:23.817\u001b[0m | \u001b[1mINFO    \u001b[0m | \u001b[36mpeerannot.models.aggregation.DS\u001b[0m:\u001b[36minit_T\u001b[0m:\u001b[36m138\u001b[0m - \u001b[1mSize of T: 760128\u001b[0m\n",
      "Finished:  10%|█         | 5/50 [02:50<25:30, 34.01s/it]       "
     ]
    },
    {
     "name": "stdout",
     "output_type": "stream",
     "text": [
      "\n"
     ]
    },
    {
     "name": "stderr",
     "output_type": "stream",
     "text": [
      "\n"
     ]
    },
    {
     "name": "stdout",
     "output_type": "stream",
     "text": [
      "Filename: /home/jozef/Desktop/repos/peerannot/.venv/lib/python3.12/site-packages/pydantic/_internal/_validate_call.py\n",
      "\n",
      "Line #    Mem usage    Increment  Occurrences   Line Contents\n",
      "=============================================================\n",
      "    36   1998.2 MiB   1998.2 MiB           1           @functools.wraps(wrapped)\n",
      "    37                                                 def wrapper_function(*args, **kwargs):\n",
      "    38   1998.4 MiB      0.1 MiB           1               return wrapper(*args, **kwargs)"
     ]
    }
   ],
   "source": [
    "%load_ext memory_profiler\n",
    "from peerannot.models import DawidSkene\n",
    "import json\n",
    "\n",
    "with open('../datasets/cifar10H/answers.json') as answers:\n",
    "    votes = json.loads(answers.read())\n",
    "    \n",
    "\n",
    "%memit # Backround memory usage  cifar10H dataset\n",
    "ds_dense = DawidSkene(answers=votes, n_workers=2571, n_classes=10, sparse=False)\n",
    "%mprun -f DawidSkene.run ds_dense.run()\n"
   ]
  },
  {
   "cell_type": "code",
   "execution_count": null,
   "metadata": {},
   "outputs": [
    {
     "ename": "",
     "evalue": "",
     "output_type": "error",
     "traceback": [
      "\u001b[1;31mThe Kernel crashed while executing code in the current cell or a previous cell. \n",
      "\u001b[1;31mPlease review the code in the cell(s) to identify a possible cause of the failure. \n",
      "\u001b[1;31mClick <a href='https://aka.ms/vscodeJupyterKernelCrash'>here</a> for more info. \n",
      "\u001b[1;31mView Jupyter <a href='command:jupyter.viewOutput'>log</a> for further details."
     ]
    }
   ],
   "source": [
    "import os\n",
    "os._exit(00)"
   ]
  },
  {
   "cell_type": "code",
   "execution_count": null,
   "metadata": {},
   "outputs": [
    {
     "name": "stderr",
     "output_type": "stream",
     "text": [
      "/home/jozef/Desktop/repos/peerannot/.venv/lib/python3.12/site-packages/tqdm/auto.py:21: TqdmWarning: IProgress not found. Please update jupyter and ipywidgets. See https://ipywidgets.readthedocs.io/en/stable/user_install.html\n",
      "  from .autonotebook import tqdm as notebook_tqdm\n",
      "\u001b[32m2025-03-19 11:49:03.705\u001b[0m | \u001b[1mINFO    \u001b[0m | \u001b[36mpeerannot.models.aggregation.DS\u001b[0m:\u001b[36minit_sparse_crowd_matrix\u001b[0m:\u001b[36m116\u001b[0m - \u001b[1mSparse crowd matrix 48\u001b[0m\n",
      "\u001b[32m2025-03-19 11:49:03.707\u001b[0m | \u001b[1mINFO    \u001b[0m | \u001b[36mpeerannot.models.aggregation.DS\u001b[0m:\u001b[36m__init__\u001b[0m:\u001b[36m87\u001b[0m - \u001b[1mSparse Crowd matrix1306\u001b[0m\n"
     ]
    },
    {
     "name": "stdout",
     "output_type": "stream",
     "text": [
      "peak memory: 566.81 MiB, increment: 0.00 MiB\n"
     ]
    },
    {
     "name": "stderr",
     "output_type": "stream",
     "text": [
      "\u001b[32m2025-03-19 11:49:07.268\u001b[0m | \u001b[1mINFO    \u001b[0m | \u001b[36mpeerannot.models.aggregation.DS\u001b[0m:\u001b[36minit_sparse_T\u001b[0m:\u001b[36m144\u001b[0m - \u001b[1mSize of sparse_T before calc: 920\u001b[0m\n",
      "\u001b[32m2025-03-19 11:49:07.275\u001b[0m | \u001b[1mINFO    \u001b[0m | \u001b[36mpeerannot.models.aggregation.DS\u001b[0m:\u001b[36minit_sparse_T\u001b[0m:\u001b[36m148\u001b[0m - \u001b[1mSize of sparse_T: 920\u001b[0m\n",
      "Finished:  70%|███████   | 35/50 [01:25<00:36,  2.44s/it]              "
     ]
    },
    {
     "name": "stdout",
     "output_type": "stream",
     "text": [
      "\n"
     ]
    },
    {
     "name": "stderr",
     "output_type": "stream",
     "text": [
      "\n"
     ]
    },
    {
     "name": "stdout",
     "output_type": "stream",
     "text": [
      "Filename: /home/jozef/Desktop/repos/peerannot/.venv/lib/python3.12/site-packages/pydantic/_internal/_validate_call.py\n",
      "\n",
      "Line #    Mem usage    Increment  Occurrences   Line Contents\n",
      "=============================================================\n",
      "    36    567.1 MiB    567.1 MiB           1           @functools.wraps(wrapped)\n",
      "    37                                                 def wrapper_function(*args, **kwargs):\n",
      "    38    639.3 MiB     72.2 MiB           1               return wrapper(*args, **kwargs)"
     ]
    },
    {
     "ename": "",
     "evalue": "",
     "output_type": "error",
     "traceback": [
      "\u001b[1;31mThe Kernel crashed while executing code in the current cell or a previous cell. \n",
      "\u001b[1;31mPlease review the code in the cell(s) to identify a possible cause of the failure. \n",
      "\u001b[1;31mClick <a href='https://aka.ms/vscodeJupyterKernelCrash'>here</a> for more info. \n",
      "\u001b[1;31mView Jupyter <a href='command:jupyter.viewOutput'>log</a> for further details."
     ]
    }
   ],
   "source": [
    "%load_ext memory_profiler\n",
    "from peerannot.models import DawidSkene\n",
    "from toy_data import votes, N_CLASSES, N_WORKERS\n",
    "%memit\n",
    "ds_sparse =  DawidSkene(answers=votes, n_workers=N_WORKERS, n_classes=N_CLASSES, sparse=True)\n",
    "%mprun -f DawidSkene.run ds_sparse.run()\n",
    "\n"
   ]
  },
  {
   "cell_type": "code",
   "execution_count": null,
   "metadata": {},
   "outputs": [],
   "source": [
    "\n",
    "import os\n",
    "os._exit(00)"
   ]
  },
  {
   "cell_type": "code",
   "execution_count": null,
   "metadata": {},
   "outputs": [
    {
     "name": "stderr",
     "output_type": "stream",
     "text": [
      "/home/jozef/Desktop/repos/peerannot/.venv/lib/python3.12/site-packages/tqdm/auto.py:21: TqdmWarning: IProgress not found. Please update jupyter and ipywidgets. See https://ipywidgets.readthedocs.io/en/stable/user_install.html\n",
      "  from .autonotebook import tqdm as notebook_tqdm\n"
     ]
    },
    {
     "name": "stdout",
     "output_type": "stream",
     "text": [
      "peak memory: 582.47 MiB, increment: 0.00 MiB\n"
     ]
    },
    {
     "name": "stderr",
     "output_type": "stream",
     "text": [
      "\u001b[32m2025-03-19 11:51:04.054\u001b[0m | \u001b[1mINFO    \u001b[0m | \u001b[36mpeerannot.models.aggregation.DS\u001b[0m:\u001b[36minit_sparse_crowd_matrix\u001b[0m:\u001b[36m116\u001b[0m - \u001b[1mSparse crowd matrix 48\u001b[0m\n",
      "\u001b[32m2025-03-19 11:51:04.393\u001b[0m | \u001b[1mINFO    \u001b[0m | \u001b[36mpeerannot.models.aggregation.DS\u001b[0m:\u001b[36m__init__\u001b[0m:\u001b[36m87\u001b[0m - \u001b[1mSparse Crowd matrix12699680\u001b[0m\n",
      "\u001b[32m2025-03-19 11:51:08.199\u001b[0m | \u001b[1mINFO    \u001b[0m | \u001b[36mpeerannot.models.aggregation.DS\u001b[0m:\u001b[36minit_sparse_T\u001b[0m:\u001b[36m144\u001b[0m - \u001b[1mSize of sparse_T before calc: 482720\u001b[0m\n",
      "\u001b[32m2025-03-19 11:51:08.208\u001b[0m | \u001b[1mINFO    \u001b[0m | \u001b[36mpeerannot.models.aggregation.DS\u001b[0m:\u001b[36minit_sparse_T\u001b[0m:\u001b[36m148\u001b[0m - \u001b[1mSize of sparse_T: 482720\u001b[0m\n",
      "Finished:  10%|█         | 5/50 [55:36<8:20:32, 667.40s/it]               "
     ]
    },
    {
     "name": "stdout",
     "output_type": "stream",
     "text": [
      "\n"
     ]
    },
    {
     "name": "stderr",
     "output_type": "stream",
     "text": [
      "\n"
     ]
    },
    {
     "name": "stdout",
     "output_type": "stream",
     "text": [
      "Filename: /home/jozef/Desktop/repos/peerannot/.venv/lib/python3.12/site-packages/pydantic/_internal/_validate_call.py\n",
      "\n",
      "Line #    Mem usage    Increment  Occurrences   Line Contents\n",
      "=============================================================\n",
      "    36    662.9 MiB    662.9 MiB           1           @functools.wraps(wrapped)\n",
      "    37                                                 def wrapper_function(*args, **kwargs):\n",
      "    38    756.8 MiB     93.9 MiB           1               return wrapper(*args, **kwargs)"
     ]
    },
    {
     "ename": "",
     "evalue": "",
     "output_type": "error",
     "traceback": [
      "\u001b[1;31mThe Kernel crashed while executing code in the current cell or a previous cell. \n",
      "\u001b[1;31mPlease review the code in the cell(s) to identify a possible cause of the failure. \n",
      "\u001b[1;31mClick <a href='https://aka.ms/vscodeJupyterKernelCrash'>here</a> for more info. \n",
      "\u001b[1;31mView Jupyter <a href='command:jupyter.viewOutput'>log</a> for further details."
     ]
    }
   ],
   "source": [
    "%load_ext memory_profiler\n",
    "from peerannot.models import DawidSkene\n",
    "import json\n",
    "\n",
    "with open('../datasets/cifar10H/answers.json') as answers:\n",
    "    votes = json.loads(answers.read())\n",
    "    \n",
    "\n",
    "%memit # Backround memory usage  cifar10H dataset\n",
    "ds_sparse = DawidSkene(answers=votes, n_workers=2571, n_classes=10, sparse=True)\n",
    "%mprun -f DawidSkene.run ds_sparse.run()\n"
   ]
  },
  {
   "cell_type": "code",
   "execution_count": null,
   "metadata": {},
   "outputs": [],
   "source": [
    "import os\n",
    "os._exit(00)"
   ]
  },
  {
   "cell_type": "markdown",
   "metadata": {},
   "source": [
    "I've conducted tests comparing the memory efficiency of two algorithms: the regular one and the one that uses sparse matrices. The \"sparse\" algorithm is significantly slower—it's extremely slow. Moreover, when running the algorithm on a smaller dataset, its performance is worse compared to the regular one. Fortunately, for the larger dataset (CIFAR-10H), it performs better memory-wise.\n",
    "\n",
    "The regular implementation uses approximately 2 GB of memory, while the \"sparse\" implementation uses around 700 MB. These values represent peak memory usage and account for everything, including loading the json file into memory and the modules. From these values, one could subtract the memory used by the torhc or cuda (I'm not sure which one) modules that are loaded along with the DawidSkene class (as these are imported in the `__init__` of `models`), which is quite substantial—around 400 MB of memory.\n",
    "\n",
    "I think that the \"sparse\" algorithm can perform better, probably by using appropriate sparse matrix formats in right places."
   ]
  }
 ],
 "metadata": {
  "kernelspec": {
   "display_name": ".venv",
   "language": "python",
   "name": "python3"
  },
  "language_info": {
   "codemirror_mode": {
    "name": "ipython",
    "version": 3
   },
   "file_extension": ".py",
   "mimetype": "text/x-python",
   "name": "python",
   "nbconvert_exporter": "python",
   "pygments_lexer": "ipython3",
   "version": "3.12.3"
  }
 },
 "nbformat": 4,
 "nbformat_minor": 2
}
